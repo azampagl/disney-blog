{
 "cells": [
  {
   "cell_type": "markdown",
   "metadata": {},
   "source": [
    "# A Data-Filled Day with the Mouse"
   ]
  },
  {
   "cell_type": "markdown",
   "metadata": {},
   "source": [
    "## Introduction and Motivation\n",
    "\n",
    "Disney is a gold mine of data. Between the Parks, Movies, Television Networks, and other Entertainment subsidiaries, there is an unlimited amount of data sources for aspiring Data Scientists to explore. With so many opportunities, I wanted to take the time to explore one avenue and show how even a simple project could prove beneficial to such a large corporation.\n",
    "\n",
    "Disney Parks Blog (http://disneyparks.disney.go.com/blog/) is Disney's primary outlet for announcements and news about  Disneyland Resort, Walt Disney World, and Disney Cruise Lines. The Disney Parks Blog, like most blogs on the internet, allows authors (bloggers) to write about a topic of interest - in this case, Disney related subjects. Once a Blog Post is submitted, anyone with access to the World Wide Web can view and add comments to the Blog Post.\n",
    "\n",
    "Why would anyone be interested in blog data? Imagine a Disney marketing team looking to capitalize on park audiences. Which parks should the team focus on to maximize return? One option is to compare park popularity by ticket sales. Another would be to look at the parks with the most Facebook Likes or commenters on the blog. What about a Disney advertising group trying to determine when to schedule Disney ads to an online audience? Just by exploring blog trends, predictions can be made about the most likely time of the day Disney enthusiasts will be online. These are just a few of the ways that data analysis can be useful to Disney Corporation.\n",
    "\n",
    "Ultimately, provides me the opportunity this mini-project will improve my skillset and explore a data set that I've never seen previously. Like many others, Disney was a large part of my childhood. The mere fact that this small project can be useful to Disney only bolsters my enthusiasm for data.\n",
    "\n",
    "Before I begin, it is important to mention that this is an exploration project - that is to say, there is no clearly defined question that needs to be answered. As I often find with data-driven projects, the amount of guidance is minimal. It is therefore up to the Data Scientist to explore and do his diligence to find questions worthwhile of answering."
   ]
  },
  {
   "cell_type": "markdown",
   "metadata": {},
   "source": [
    "## Layout\n",
    "\n",
    "1. Introduction and Motivation\n",
    "   - An introduction to the project and a motivation for running the analysis.\n",
    "2. Layout\n",
    "   - \"You are here\"\n",
    "3. Prerequisites\n",
    "   - High level material, such as importing frequently used python packages and defining commonly used variables (I'm originally a Computer Scientist, so I do my best to avoid globals).\n",
    "4. The Data\n",
    "   - A brief introduction to the data.\n",
    "5. Exploration\n",
    "   - Graphs and summary data to help describe the data.\n",
    "6. Cruising on the Rise\n",
    "   - I take an in-depth look at Disney Cruise Lines.\n",
    "7. Weekday vs. Weekend Posts\n",
    "   - An analysis to see if posting on a weekday is advantageous.\n",
    "8. Negative Comment Detection (Sentiment Analysis)\n",
    "   - An attempt at sentiment analysis on blog post comments.\n",
    "9. Appendix\n",
    "   - Methods that aren't directly related to the analysis. Most code to clean / cache data.\n",
    "\n"
   ]
  },
  {
   "cell_type": "markdown",
   "metadata": {},
   "source": [
    "## Prerequisites"
   ]
  },
  {
   "cell_type": "code",
   "execution_count": 1,
   "metadata": {
    "collapsed": false
   },
   "outputs": [],
   "source": [
    "import collections\n",
    "import itertools\n",
    "from datetime import datetime\n",
    "import json\n",
    "import os\n",
    "import os.path\n",
    "import pickle\n",
    "from pprint import pprint\n",
    "from random import shuffle\n",
    "import re\n",
    "import warnings\n",
    "\n",
    "# Ignore future matplotlib warnings\n",
    "warnings.filterwarnings(\"ignore\", module=\"matplotlib\")\n",
    "\n",
    "import matplotlib.pyplot as plt\n",
    "import numpy as np\n",
    "import scipy as sp\n",
    "import pandas as pd\n",
    "import seaborn as sns\n",
    "\n",
    "import tensorflow as tf\n",
    "from sklearn.cross_validation import train_test_split\n",
    "from sklearn.metrics import confusion_matrix, accuracy_score, precision_score, recall_score\n",
    "\n",
    "from nltk.tokenize import RegexpTokenizer\n",
    "from stop_words import get_stop_words\n",
    "from nltk.stem.porter import PorterStemmer\n",
    "from gensim import corpora, models\n",
    "from gensim.models.ldamodel import LdaModel \n",
    "\n",
    "# Matplotlib settings.\n",
    "%matplotlib inline\n",
    "plt.rcParams.update({'font.size': 18})\n",
    "\n",
    "# Seaborn settings.\n",
    "sns.set(rc={\"figure.figsize\": (14, 7)})\n",
    "sns.set_palette(sns.color_palette(\"Blues_d\"))"
   ]
  },
  {
   "cell_type": "code",
   "execution_count": 178,
   "metadata": {
    "collapsed": false
   },
   "outputs": [],
   "source": [
    "META = {\n",
    "    # File paths for the data.\n",
    "    'data': {\n",
    "        'blog': {\n",
    "            'path': 'data/blog'\n",
    "        },\n",
    "        'sentiments': {\n",
    "            'filename': \"data/sentiment/sentiments.json\"\n",
    "        },\n",
    "        'comments_positive': {\n",
    "            'filename': \"data/sentiment/comments_positive.json\"\n",
    "        },\n",
    "        'comments_negative': {\n",
    "            'filename': \"data/sentiment/comments-negative.json\"\n",
    "        },\n",
    "        'cache': 'data/cache'\n",
    "    },\n",
    "    # Models.\n",
    "    'model': {\n",
    "        'sentiment': 'models/sentiment/sentiment-model.ckpt'\n",
    "    },\n",
    "    # Plotting info for matplotlib / seaborn\n",
    "    'plots': {\n",
    "        'color': '#34495e',\n",
    "        'palette': 'Blues_d',\n",
    "        'width': 16,\n",
    "        'height': 8,\n",
    "    }\n",
    "}"
   ]
  },
  {
   "cell_type": "markdown",
   "metadata": {},
   "source": [
    "## The Data"
   ]
  },
  {
   "cell_type": "markdown",
   "metadata": {},
   "source": [
    "### Acquisition\n",
    "\n",
    "After browsing the web for a while, I determined that the blog was ideal because it was full of content and freely available to the public.\n",
    "\n",
    "As I do not have direct access to Disney's Data, I developed a spider (code that autonomously navigates the website) to slowly scrape all of the blog posts. Once all of the blog posts were available locally, the data was wrangled into a format that could be easily consumed.\n",
    "\n",
    "**(Please note that as of early 2016, the Disney Parks Blog has updated. Features, such as Facebook Likes, maybe be inconsistent with the data I obtained late 2015).**"
   ]
  },
  {
   "cell_type": "markdown",
   "metadata": {},
   "source": [
    "### Wrangling\n",
    "\n",
    "For the sake of brevity, it is not necessary to discuss how the data was obtained and cleaned. In the end, ~10,000 json files were available with content similar to the following:"
   ]
  },
  {
   "cell_type": "code",
   "execution_count": 3,
   "metadata": {
    "collapsed": false
   },
   "outputs": [
    {
     "name": "stdout",
     "output_type": "stream",
     "text": [
      "{'author': {'division': 'Disney Parks',\n",
      "            'name': 'Thomas Smith',\n",
      "            'role': 'Social Media Director'},\n",
      " 'body': '    Sure, the Epcot International Food & Wine Festival has just '\n",
      "         'begun but we’re not waiting to give you a taste of what’s to come in '\n",
      "         'October. The Disney Parks Blog has an early peek at a few of the '\n",
      "         'more than 250 amazing chefs scheduled to appear during the six-week '\n",
      "         'event.    Our first featured chef is a Festival favorite. Chef '\n",
      "         'Robert Irvine from Food Network’s “Dinner Impossible” will be '\n",
      "         'demonstrating his cooking for a third year on October 25. We’ve '\n",
      "         'posted video showing some of his secrets on preparing Green '\n",
      "         'Peppercorn Steak au Poivre.    We’re also celebrating with more of '\n",
      "         'our favorite cooks — the Deen Brothers.  Jamie Deen and Bobby Deen '\n",
      "         'will appear on October 3 at the Epcot International Food & Wine '\n",
      "         'Festival. They’ll be hosting a “Family and Friends in the Kitchen” '\n",
      "         'three-course lunch.  But first they’re sharing their aunt’s recipe '\n",
      "         'for Tomato, Cucumber and Onion Salad.    Culinary demonstrations '\n",
      "         'will be held daily during the International Food & Wine Festival for '\n",
      "         'a fee. Our Festival Welcome Center has more details.',\n",
      " 'comments': [{'author': 'Robert',\n",
      "               'body': '    I’m not a wine drinker, but I always love this for '\n",
      "                       'the food!!!',\n",
      "               'is_post_author': False,\n",
      "               'location': 'MI',\n",
      "               'timestamp': 1254343020.0},\n",
      "              {'author': 'Lee',\n",
      "               'body': '    This is fantastic!!! It also made me incredibly '\n",
      "                       'hungry reading it. I must get food now…    But '\n",
      "                       'seriously, Love the fact we got some recipes on here! '\n",
      "                       'The Food and Wine festival is my all time favorite '\n",
      "                       'celebration done at a Disney Theme Park. How can you '\n",
      "                       'not love walking around countries trying out different '\n",
      "                       'foods that you otherwise wouldn’t have even given a '\n",
      "                       'try?!    Forget getting the food, I’m driving to '\n",
      "                       'Epcot. See you in a few! ;]',\n",
      "               'is_post_author': False,\n",
      "               'location': None,\n",
      "               'timestamp': 1254343200.0},\n",
      "              {'author': 'Jacqueline',\n",
      "               'body': '    Thanks for the recipe for Aunt Peggy’s Pickled '\n",
      "                       'Cucumber, Tomato, and Onion Salad!   I will definitely '\n",
      "                       'be trying this – it’s always great to find new vegan '\n",
      "                       'recipes.  This will work out great to make ahead of '\n",
      "                       'time for my dinner party this weekend!  Thanks a '\n",
      "                       'bunch!',\n",
      "               'is_post_author': False,\n",
      "               'location': 'IN',\n",
      "               'timestamp': 1254361140.0},\n",
      "              {'author': 'susan',\n",
      "               'body': '    I love,love,love Disney!!!!! But my favorite event '\n",
      "                       'is Food and Wine!!! We enjoy the events and just '\n",
      "                       'walking around and eating all the different foods and '\n",
      "                       'tasting all the different wines. It makes for a great '\n",
      "                       'day or a great weekend.',\n",
      "               'is_post_author': False,\n",
      "               'location': 'FL',\n",
      "               'timestamp': 1254408480.0},\n",
      "              {'author': 'Jacob',\n",
      "               'body': '    Thanks for offering this kind of stuff at Epcot. '\n",
      "                       'It is truly a place where you can learn and have fun.',\n",
      "               'is_post_author': False,\n",
      "               'location': None,\n",
      "               'timestamp': 1254419160.0},\n",
      "              {'author': 'Angela',\n",
      "               'body': '    I’d like to see more online culinary '\n",
      "                       'demonstrations/recipes online because I only managed '\n",
      "                       'to make a couple of them while at the festival this '\n",
      "                       'year and would love to see more.',\n",
      "               'is_post_author': False,\n",
      "               'location': 'BC',\n",
      "               'timestamp': 1255557660.0},\n",
      "              {'author': 'Thomas Smith',\n",
      "               'body': '    Great suggestion.  Thanks, Angela.',\n",
      "               'is_post_author': True,\n",
      "               'location': None,\n",
      "               'timestamp': 1255558080.0}],\n",
      " 'facebook': {'likes': 9,\n",
      "              'url': 'http://www.facebook.com/plugins/like.php?href=http://disneyparks.disney.go.com/blog/2009/09/chefs-offer-taste-of-epcot-international-food-wine-festival/&layout=button_count&show_faces=true&width=80&action=like&colorscheme=light&height=21'},\n",
      " 'files': ['Epcot', 'Special Events', 'Walt Disney World Resort'],\n",
      " 'tags': ['FWF', 'IFWF', 'Video', 'WDW'],\n",
      " 'timestamp': 1254283200.0,\n",
      " 'title': 'Chefs Offer Taste of Epcot International Food & Wine Festival',\n",
      " 'url': 'http://disneyparks.disney.go.com/blog/2009/09/chefs-offer-taste-of-epcot-international-food-wine-festival/'}\n"
     ]
    }
   ],
   "source": [
    "def demo_json_file():\n",
    "    \"\"\"Demo the json file contents.\"\"\"\n",
    "    \n",
    "    path = \"2009/09/chefs-offer-taste-of-epcot-international-food-wine-festival.json\"\n",
    "    filepath = \"{0}/{1}\".format(META['data']['blog']['path'], path)\n",
    "    \n",
    "    with open(filepath, 'r') as file:    \n",
    "        pprint(json.load(file))\n",
    "\n",
    "# Execute.\n",
    "demo_json_file()"
   ]
  },
  {
   "cell_type": "markdown",
   "metadata": {},
   "source": [
    "For each post, information such as the author, date of creation, number of Facebook Likes, and post \"body\" (content) was collected. In addition, comments related to each post were collected."
   ]
  },
  {
   "cell_type": "markdown",
   "metadata": {},
   "source": [
    "### Storage\n",
    "\n",
    "If I had an exorbitant amount of data, I would likely build a Mesos cluster with an HDFS and use Spark/Pandas for the majority of the work.\n",
    "\n",
    "However, due to the small nature of the data set, all json files were stored locally and converted to Panda's DataFrames (see appendix for code)."
   ]
  },
  {
   "cell_type": "code",
   "execution_count": 14,
   "metadata": {
    "collapsed": false
   },
   "outputs": [],
   "source": [
    "posts, tags, filings, comments = post_dataframes()"
   ]
  },
  {
   "cell_type": "code",
   "execution_count": 15,
   "metadata": {
    "collapsed": false
   },
   "outputs": [
    {
     "data": {
      "text/html": [
       "<div>\n",
       "<table border=\"1\" class=\"dataframe\">\n",
       "  <thead>\n",
       "    <tr style=\"text-align: right;\">\n",
       "      <th></th>\n",
       "      <th>author_division</th>\n",
       "      <th>author_name</th>\n",
       "      <th>author_role</th>\n",
       "      <th>body</th>\n",
       "      <th>facebook_likes</th>\n",
       "      <th>facebook_url</th>\n",
       "      <th>timestamp</th>\n",
       "      <th>title</th>\n",
       "    </tr>\n",
       "    <tr>\n",
       "      <th>url</th>\n",
       "      <th></th>\n",
       "      <th></th>\n",
       "      <th></th>\n",
       "      <th></th>\n",
       "      <th></th>\n",
       "      <th></th>\n",
       "      <th></th>\n",
       "      <th></th>\n",
       "    </tr>\n",
       "  </thead>\n",
       "  <tbody>\n",
       "    <tr>\n",
       "      <th>http://disneyparks.disney.go.com/blog/2009/09/chefs-offer-taste-of-epcot-international-food-wine-festival/</th>\n",
       "      <td>Disney Parks</td>\n",
       "      <td>Thomas Smith</td>\n",
       "      <td>Social Media Director</td>\n",
       "      <td>Sure, the Epcot International Food &amp; Wine ...</td>\n",
       "      <td>9</td>\n",
       "      <td>http://www.facebook.com/plugins/like.php?href=...</td>\n",
       "      <td>1254283200</td>\n",
       "      <td>Chefs Offer Taste of Epcot International Food ...</td>\n",
       "    </tr>\n",
       "    <tr>\n",
       "      <th>http://disneyparks.disney.go.com/blog/2009/09/disney-autonomatronics-figure-can-sense-if-youre-happy/</th>\n",
       "      <td>Disney Parks</td>\n",
       "      <td>Thomas Smith</td>\n",
       "      <td>Social Media Director</td>\n",
       "      <td>Here at Disney Parks, the three-dimensiona...</td>\n",
       "      <td>82</td>\n",
       "      <td>http://www.facebook.com/plugins/like.php?href=...</td>\n",
       "      <td>1254110400</td>\n",
       "      <td>Disney Autonomatronics Figure Can Sense If You...</td>\n",
       "    </tr>\n",
       "    <tr>\n",
       "      <th>http://disneyparks.disney.go.com/blog/2009/09/disney-launches-give-a-day-get-a-disney-day-tv-spots/</th>\n",
       "      <td>Disney Parks</td>\n",
       "      <td>Thomas Smith</td>\n",
       "      <td>Social Media Director</td>\n",
       "      <td>There’s no doubt that our “Give a Day, Get...</td>\n",
       "      <td>76</td>\n",
       "      <td>http://www.facebook.com/plugins/like.php?href=...</td>\n",
       "      <td>1254196800</td>\n",
       "      <td>Disney Launches ‘Give a Day, Get a Disney Day’...</td>\n",
       "    </tr>\n",
       "  </tbody>\n",
       "</table>\n",
       "</div>"
      ],
      "text/plain": [
       "                                                   author_division  \\\n",
       "url                                                                  \n",
       "http://disneyparks.disney.go.com/blog/2009/09/c...    Disney Parks   \n",
       "http://disneyparks.disney.go.com/blog/2009/09/d...    Disney Parks   \n",
       "http://disneyparks.disney.go.com/blog/2009/09/d...    Disney Parks   \n",
       "\n",
       "                                                     author_name  \\\n",
       "url                                                                \n",
       "http://disneyparks.disney.go.com/blog/2009/09/c...  Thomas Smith   \n",
       "http://disneyparks.disney.go.com/blog/2009/09/d...  Thomas Smith   \n",
       "http://disneyparks.disney.go.com/blog/2009/09/d...  Thomas Smith   \n",
       "\n",
       "                                                              author_role  \\\n",
       "url                                                                         \n",
       "http://disneyparks.disney.go.com/blog/2009/09/c...  Social Media Director   \n",
       "http://disneyparks.disney.go.com/blog/2009/09/d...  Social Media Director   \n",
       "http://disneyparks.disney.go.com/blog/2009/09/d...  Social Media Director   \n",
       "\n",
       "                                                                                                 body  \\\n",
       "url                                                                                                     \n",
       "http://disneyparks.disney.go.com/blog/2009/09/c...      Sure, the Epcot International Food & Wine ...   \n",
       "http://disneyparks.disney.go.com/blog/2009/09/d...      Here at Disney Parks, the three-dimensiona...   \n",
       "http://disneyparks.disney.go.com/blog/2009/09/d...      There’s no doubt that our “Give a Day, Get...   \n",
       "\n",
       "                                                   facebook_likes  \\\n",
       "url                                                                 \n",
       "http://disneyparks.disney.go.com/blog/2009/09/c...              9   \n",
       "http://disneyparks.disney.go.com/blog/2009/09/d...             82   \n",
       "http://disneyparks.disney.go.com/blog/2009/09/d...             76   \n",
       "\n",
       "                                                                                         facebook_url  \\\n",
       "url                                                                                                     \n",
       "http://disneyparks.disney.go.com/blog/2009/09/c...  http://www.facebook.com/plugins/like.php?href=...   \n",
       "http://disneyparks.disney.go.com/blog/2009/09/d...  http://www.facebook.com/plugins/like.php?href=...   \n",
       "http://disneyparks.disney.go.com/blog/2009/09/d...  http://www.facebook.com/plugins/like.php?href=...   \n",
       "\n",
       "                                                     timestamp  \\\n",
       "url                                                              \n",
       "http://disneyparks.disney.go.com/blog/2009/09/c...  1254283200   \n",
       "http://disneyparks.disney.go.com/blog/2009/09/d...  1254110400   \n",
       "http://disneyparks.disney.go.com/blog/2009/09/d...  1254196800   \n",
       "\n",
       "                                                                                                title  \n",
       "url                                                                                                    \n",
       "http://disneyparks.disney.go.com/blog/2009/09/c...  Chefs Offer Taste of Epcot International Food ...  \n",
       "http://disneyparks.disney.go.com/blog/2009/09/d...  Disney Autonomatronics Figure Can Sense If You...  \n",
       "http://disneyparks.disney.go.com/blog/2009/09/d...  Disney Launches ‘Give a Day, Get a Disney Day’...  "
      ]
     },
     "execution_count": 15,
     "metadata": {},
     "output_type": "execute_result"
    }
   ],
   "source": [
    "posts.head(3)"
   ]
  },
  {
   "cell_type": "code",
   "execution_count": 16,
   "metadata": {
    "collapsed": false
   },
   "outputs": [
    {
     "data": {
      "text/html": [
       "<div>\n",
       "<table border=\"1\" class=\"dataframe\">\n",
       "  <thead>\n",
       "    <tr style=\"text-align: right;\">\n",
       "      <th></th>\n",
       "      <th>tag</th>\n",
       "    </tr>\n",
       "    <tr>\n",
       "      <th>url</th>\n",
       "      <th></th>\n",
       "    </tr>\n",
       "  </thead>\n",
       "  <tbody>\n",
       "    <tr>\n",
       "      <th>http://disneyparks.disney.go.com/blog/2009/09/chefs-offer-taste-of-epcot-international-food-wine-festival/</th>\n",
       "      <td>FWF</td>\n",
       "    </tr>\n",
       "    <tr>\n",
       "      <th>http://disneyparks.disney.go.com/blog/2009/09/chefs-offer-taste-of-epcot-international-food-wine-festival/</th>\n",
       "      <td>IFWF</td>\n",
       "    </tr>\n",
       "    <tr>\n",
       "      <th>http://disneyparks.disney.go.com/blog/2009/09/chefs-offer-taste-of-epcot-international-food-wine-festival/</th>\n",
       "      <td>Video</td>\n",
       "    </tr>\n",
       "  </tbody>\n",
       "</table>\n",
       "</div>"
      ],
      "text/plain": [
       "                                                      tag\n",
       "url                                                      \n",
       "http://disneyparks.disney.go.com/blog/2009/09/c...    FWF\n",
       "http://disneyparks.disney.go.com/blog/2009/09/c...   IFWF\n",
       "http://disneyparks.disney.go.com/blog/2009/09/c...  Video"
      ]
     },
     "execution_count": 16,
     "metadata": {},
     "output_type": "execute_result"
    }
   ],
   "source": [
    "tags.head(3)"
   ]
  },
  {
   "cell_type": "code",
   "execution_count": 17,
   "metadata": {
    "collapsed": false
   },
   "outputs": [
    {
     "data": {
      "text/html": [
       "<div>\n",
       "<table border=\"1\" class=\"dataframe\">\n",
       "  <thead>\n",
       "    <tr style=\"text-align: right;\">\n",
       "      <th></th>\n",
       "      <th>filing</th>\n",
       "    </tr>\n",
       "    <tr>\n",
       "      <th>url</th>\n",
       "      <th></th>\n",
       "    </tr>\n",
       "  </thead>\n",
       "  <tbody>\n",
       "    <tr>\n",
       "      <th>http://disneyparks.disney.go.com/blog/2009/09/chefs-offer-taste-of-epcot-international-food-wine-festival/</th>\n",
       "      <td>Epcot</td>\n",
       "    </tr>\n",
       "    <tr>\n",
       "      <th>http://disneyparks.disney.go.com/blog/2009/09/chefs-offer-taste-of-epcot-international-food-wine-festival/</th>\n",
       "      <td>Special Events</td>\n",
       "    </tr>\n",
       "    <tr>\n",
       "      <th>http://disneyparks.disney.go.com/blog/2009/09/chefs-offer-taste-of-epcot-international-food-wine-festival/</th>\n",
       "      <td>Walt Disney World Resort</td>\n",
       "    </tr>\n",
       "  </tbody>\n",
       "</table>\n",
       "</div>"
      ],
      "text/plain": [
       "                                                                      filing\n",
       "url                                                                         \n",
       "http://disneyparks.disney.go.com/blog/2009/09/c...                     Epcot\n",
       "http://disneyparks.disney.go.com/blog/2009/09/c...            Special Events\n",
       "http://disneyparks.disney.go.com/blog/2009/09/c...  Walt Disney World Resort"
      ]
     },
     "execution_count": 17,
     "metadata": {},
     "output_type": "execute_result"
    }
   ],
   "source": [
    "filings.head(3)"
   ]
  },
  {
   "cell_type": "code",
   "execution_count": 18,
   "metadata": {
    "collapsed": false
   },
   "outputs": [
    {
     "data": {
      "text/html": [
       "<div>\n",
       "<table border=\"1\" class=\"dataframe\">\n",
       "  <thead>\n",
       "    <tr style=\"text-align: right;\">\n",
       "      <th></th>\n",
       "      <th>author</th>\n",
       "      <th>body</th>\n",
       "      <th>is_post_author</th>\n",
       "      <th>location</th>\n",
       "      <th>timestamp</th>\n",
       "    </tr>\n",
       "    <tr>\n",
       "      <th>url</th>\n",
       "      <th></th>\n",
       "      <th></th>\n",
       "      <th></th>\n",
       "      <th></th>\n",
       "      <th></th>\n",
       "    </tr>\n",
       "  </thead>\n",
       "  <tbody>\n",
       "    <tr>\n",
       "      <th>http://disneyparks.disney.go.com/blog/2009/09/chefs-offer-taste-of-epcot-international-food-wine-festival/</th>\n",
       "      <td>Robert</td>\n",
       "      <td>I’m not a wine drinker, but I always love ...</td>\n",
       "      <td>0</td>\n",
       "      <td>MI</td>\n",
       "      <td>1254343020</td>\n",
       "    </tr>\n",
       "    <tr>\n",
       "      <th>http://disneyparks.disney.go.com/blog/2009/09/chefs-offer-taste-of-epcot-international-food-wine-festival/</th>\n",
       "      <td>Lee</td>\n",
       "      <td>This is fantastic!!! It also made me incre...</td>\n",
       "      <td>0</td>\n",
       "      <td>None</td>\n",
       "      <td>1254343200</td>\n",
       "    </tr>\n",
       "    <tr>\n",
       "      <th>http://disneyparks.disney.go.com/blog/2009/09/chefs-offer-taste-of-epcot-international-food-wine-festival/</th>\n",
       "      <td>Jacqueline</td>\n",
       "      <td>Thanks for the recipe for Aunt Peggy’s Pic...</td>\n",
       "      <td>0</td>\n",
       "      <td>IN</td>\n",
       "      <td>1254361140</td>\n",
       "    </tr>\n",
       "  </tbody>\n",
       "</table>\n",
       "</div>"
      ],
      "text/plain": [
       "                                                        author  \\\n",
       "url                                                              \n",
       "http://disneyparks.disney.go.com/blog/2009/09/c...      Robert   \n",
       "http://disneyparks.disney.go.com/blog/2009/09/c...         Lee   \n",
       "http://disneyparks.disney.go.com/blog/2009/09/c...  Jacqueline   \n",
       "\n",
       "                                                                                                 body  \\\n",
       "url                                                                                                     \n",
       "http://disneyparks.disney.go.com/blog/2009/09/c...      I’m not a wine drinker, but I always love ...   \n",
       "http://disneyparks.disney.go.com/blog/2009/09/c...      This is fantastic!!! It also made me incre...   \n",
       "http://disneyparks.disney.go.com/blog/2009/09/c...      Thanks for the recipe for Aunt Peggy’s Pic...   \n",
       "\n",
       "                                                    is_post_author location  \\\n",
       "url                                                                           \n",
       "http://disneyparks.disney.go.com/blog/2009/09/c...               0       MI   \n",
       "http://disneyparks.disney.go.com/blog/2009/09/c...               0     None   \n",
       "http://disneyparks.disney.go.com/blog/2009/09/c...               0       IN   \n",
       "\n",
       "                                                     timestamp  \n",
       "url                                                             \n",
       "http://disneyparks.disney.go.com/blog/2009/09/c...  1254343020  \n",
       "http://disneyparks.disney.go.com/blog/2009/09/c...  1254343200  \n",
       "http://disneyparks.disney.go.com/blog/2009/09/c...  1254361140  "
      ]
     },
     "execution_count": 18,
     "metadata": {},
     "output_type": "execute_result"
    }
   ],
   "source": [
    "comments.head(3)"
   ]
  },
  {
   "cell_type": "code",
   "execution_count": 19,
   "metadata": {
    "collapsed": false,
    "scrolled": true
   },
   "outputs": [
    {
     "name": "stdout",
     "output_type": "stream",
     "text": [
      "Total Blog Posts: 9823\n"
     ]
    }
   ],
   "source": [
    "print(\"Total Blog Posts: {0}\".format(len(posts)))"
   ]
  },
  {
   "cell_type": "markdown",
   "metadata": {},
   "source": [
    "\n",
    "## Explore!\n",
    "\n",
    "There are about ~10,000 json files that contain the body of a blog post, anonymous comments, and some other meta data... Now what? How can what is important be determined?\n",
    "\n",
    "Well, that's the great part about being a Data Scientist - we get to define what is important! So let's begin!"
   ]
  },
  {
   "cell_type": "markdown",
   "metadata": {},
   "source": [
    "### Distribution of Features\n",
    "\n",
    "One of the most useful steps of exploring data is plotting distributions. Visualizing distributions helps depict patterns that would otherwise be hard to understand by looking at raw numbers."
   ]
  },
  {
   "cell_type": "markdown",
   "metadata": {},
   "source": [
    "#### Words per Post"
   ]
  },
  {
   "cell_type": "code",
   "execution_count": 22,
   "metadata": {
    "collapsed": false,
    "scrolled": true
   },
   "outputs": [
    {
     "name": "stdout",
     "output_type": "stream",
     "text": [
      "General Stats:\n",
      "--------------\n",
      "Mean:\t\t233.499236\n",
      "Median:\t\t194.000000\n",
      "Std. Dev.:\t163.319347\n",
      "\n",
      "Top 15 Smallest Values:\t[  9.  11.  14.  17.  18.  20.  21.  21.  22.  25.  25.  25.  26.  26.  27.]\n",
      "Top 15 Largest Values:\t[ 1008.  1018.  1058.  1068.  1076.  1098.  1107.  1127.  1227.  1265.\n",
      "  1275.  1303.  1618.  4524.  5114.]\n",
      "\n"
     ]
    },
    {
     "data": {
      "image/png": "[encoded data removed]",
      "text/plain": [
       "<matplotlib.figure.Figure at 0x115106eb8>"
      ]
     },
     "metadata": {},
     "output_type": "display_data"
    }
   ],
   "source": [
    "def explore_words_per_post(posts):\n",
    "    \"\"\"\n",
    "    Explore and plot the number of words per post.\n",
    "\n",
    "    Key arguments:\n",
    "    \n",
    "        posts -- The posts.\n",
    "    \"\"\"\n",
    "    word_counts = np.zeros(len(posts.index))\n",
    "    for i, (url, post) in enumerate(posts.iterrows()):\n",
    "        word_counts[i] = len(post['body'].split(\" \"))\n",
    "\n",
    "    # Print some general stats.\n",
    "    print_general_stats(word_counts)\n",
    "    \n",
    "    fig, axs = plt.subplots(figsize=(META['plots']['width'], META['plots']['height'] * 3), ncols=1, nrows=3)\n",
    "    \n",
    "    # Draw boxplot.\n",
    "    ax = sns.boxplot(x=word_counts, ax=axs[0])\n",
    "    ax.set_title(\"Words per Post Boxplot\")\n",
    "    \n",
    "    # Draw full distribution.\n",
    "    ax = sns.distplot(word_counts, kde=0, ax=axs[1])\n",
    "    ax.set_title(\"Number of Words per Post\")\n",
    "    ax.set_xlabel('Number of Words')\n",
    "    ax.set_ylabel('Count')\n",
    "    \n",
    "    # Lets look at the number of posts with 500 or less words.\n",
    "    word_counts_zoomed_idxs = np.where(word_counts <= 500)\n",
    "    bins = range(0, 501)\n",
    "    \n",
    "    # Draw zoomed in distribution.\n",
    "    ax = sns.distplot(word_counts[word_counts_zoomed_idxs], bins=bins, kde=0, ax=axs[2])\n",
    "    ax.set_title(\"Number of Words per Post (Zoomed)\")\n",
    "    ax.set_xlabel(\"Number of Words\")\n",
    "    ax.set_ylabel(\"Count\")\n",
    "    \n",
    "# Execute.\n",
    "explore_words_per_post(posts.copy())"
   ]
  },
  {
   "cell_type": "markdown",
   "metadata": {},
   "source": [
    "Looking at the distribution, it looks like the bulk of the posts are sub 600 words with a mean of 200. This seems reasonable since I would expect each post to be a few paragraphs."
   ]
  },
  {
   "cell_type": "markdown",
   "metadata": {},
   "source": [
    "#### Comments per Post"
   ]
  },
  {
   "cell_type": "code",
   "execution_count": 24,
   "metadata": {
    "collapsed": false
   },
   "outputs": [
    {
     "name": "stdout",
     "output_type": "stream",
     "text": [
      "General Stats:\n",
      "--------------\n",
      "Mean:\t\t11.518681\n",
      "Median:\t\t6.000000\n",
      "Std. Dev.:\t13.677241\n",
      "\n",
      "Top 15 Smallest Values:\t[ 0.  0.  0.  0.  0.  0.  0.  0.  0.  0.  0.  0.  0.  0.  0.]\n",
      "Top 15 Largest Values:\t[ 78.  78.  79.  79.  80.  80.  81.  83.  84.  85.  86.  90.  90.  91.  91.]\n",
      "\n"
     ]
    },
    {
     "data": {
      "image/png": "[encoded data removed]",
      "text/plain": [
       "<matplotlib.figure.Figure at 0x1131f5c50>"
      ]
     },
     "metadata": {},
     "output_type": "display_data"
    }
   ],
   "source": [
    "def explore_comments_per_post(posts, comments):\n",
    "    \"\"\"\n",
    "    Explore and plot the number of comments per post.\n",
    "\n",
    "    Key arguments:\n",
    "    \n",
    "        posts    -- The posts.\n",
    "        comments -- The post comments.\n",
    "    \"\"\"\n",
    "    comment_counts = np.zeros(len(posts.index))\n",
    "    for i, (url, post) in enumerate(posts.iterrows()):\n",
    "        comment_counts[i] = len(comments.loc[url]) if url in comments.index else 0\n",
    "            \n",
    "    # Print some general stats.\n",
    "    print_general_stats(comment_counts)\n",
    "    \n",
    "    fig, axs = plt.subplots(figsize=(META['plots']['width'], META['plots']['height'] * 3), ncols=1, nrows=3)\n",
    "\n",
    "    # Draw boxplot.\n",
    "    ax = sns.boxplot(x=comment_counts, ax=axs[0])\n",
    "    ax.set_title(\"Comments per Post Boxplot\")\n",
    "    \n",
    "    # Draw full distribution.\n",
    "    ax = sns.distplot(comment_counts, kde=0, ax=axs[1])\n",
    "    ax.set_title(\"Number of Comments per Post\")\n",
    "    ax.set_xlabel('Number of Comments')\n",
    "    ax.set_ylabel('Count')\n",
    "    \n",
    "    # Lets look at the number of posts with 20 or less comments.\n",
    "    comment_counts_zoomed_idxs = np.where(comment_counts <= 20)\n",
    "    bins = range(0, 21)\n",
    "    \n",
    "    # Draw zoomed in distribution.\n",
    "    ax = sns.distplot(comment_counts[comment_counts_zoomed_idxs], bins=bins, kde=0, ax=axs[2])\n",
    "    ax.set_title(\"Number of Comments per Post Distribution (Zoomed)\")\n",
    "    ax.set_xlabel(\"Number of Comments\")\n",
    "    ax.set_ylabel(\"Count\")\n",
    "    \n",
    "# Execute.\n",
    "explore_comments_per_post(posts.copy(), comments.copy())"
   ]
  },
  {
   "cell_type": "markdown",
   "metadata": {},
   "source": [
    "Each post has a median of ~6 comments, and quite a few had 40+. One thing that stands out is the complete lack of posts with one comment (see below)... I'm still pondering why this would be, other than a random phenomenon. "
   ]
  },
  {
   "cell_type": "code",
   "execution_count": 29,
   "metadata": {
    "collapsed": false
   },
   "outputs": [
    {
     "name": "stdout",
     "output_type": "stream",
     "text": [
      "Number of posts with one comment: 0\n"
     ]
    }
   ],
   "source": [
    "def explore_comments_with_one_post(posts, comments):\n",
    "    \"\"\"\n",
    "    Explore the number of posts with one comment.\n",
    "\n",
    "    Key arguments:\n",
    "    \n",
    "        posts    -- The posts.\n",
    "        comments -- The post comments.\n",
    "    \"\"\"\n",
    "    comment_counts = np.zeros(len(posts.index))\n",
    "    for i, (url, post) in enumerate(posts.iterrows()):\n",
    "        comment_counts[i] = len(comments.loc[url]) if url in comments.index else 0\n",
    "    \n",
    "    one_comment_count = len(np.where(comment_counts == 1)[0])\n",
    "    \n",
    "    print(\"Number of posts with one comment: {0}\".format(one_comment_count))\n",
    "        \n",
    "# Execute.\n",
    "explore_comments_with_one_post(posts.copy(), comments.copy())"
   ]
  },
  {
   "cell_type": "markdown",
   "metadata": {},
   "source": [
    "#### Words per Comment"
   ]
  },
  {
   "cell_type": "code",
   "execution_count": 31,
   "metadata": {
    "collapsed": false
   },
   "outputs": [
    {
     "name": "stdout",
     "output_type": "stream",
     "text": [
      "General Stats:\n",
      "--------------\n",
      "Mean:\t\t36.580357\n",
      "Median:\t\t28.000000\n",
      "Std. Dev.:\t32.655881\n",
      "\n",
      "Top 15 Smallest Values:\t[ 1.  1.  1.  1.  1.  1.  1.  1.  1.  1.  1.  1.  1.  1.  1.]\n",
      "Top 15 Largest Values:\t[  485.   510.   513.   543.   549.   581.   585.   598.   599.   611.\n",
      "   618.   634.   640.   738.  1247.]\n",
      "\n"
     ]
    },
    {
     "data": {
      "image/png": "[encoded data removed]",
      "text/plain": [
       "<matplotlib.figure.Figure at 0x11793ebe0>"
      ]
     },
     "metadata": {},
     "output_type": "display_data"
    }
   ],
   "source": [
    "def explore_words_per_comment_per_post(comments):\n",
    "    \"\"\"\n",
    "    Explore and plot the number of words per comment.\n",
    "\n",
    "    Key arguments:\n",
    "    \n",
    "        comments -- The post comments.\n",
    "    \"\"\"\n",
    "    word_counts = np.zeros(len(comments.index))\n",
    "    for i, (url, comment) in enumerate(comments.iterrows()):\n",
    "        word_counts[i] = len(comment['body'].split(\" \"))\n",
    "\n",
    "    # Print some general stats.\n",
    "    print_general_stats(word_counts)\n",
    "    \n",
    "    fig, axs = plt.subplots(figsize=(META['plots']['width'], META['plots']['height'] * 3), ncols=1, nrows=3)\n",
    "\n",
    "    # Draw boxplot.\n",
    "    ax = sns.boxplot(x=word_counts, ax=axs[0])\n",
    "    ax.set_title(\"Words per Comment Boxplot\")\n",
    "\n",
    "    # Draw full distribution.\n",
    "    ax = sns.distplot(word_counts, kde=0, ax=axs[1])\n",
    "    ax.set_title(\"Number of Words per Comment\")\n",
    "    ax.set_xlabel('Number of Words')\n",
    "    ax.set_ylabel('Count')\n",
    "    \n",
    "    # Lets look at the number of comments with 100 or less words.\n",
    "    word_counts_zoomed_idxs = np.where(word_counts <= 100)\n",
    "    bins = range(0, 101)\n",
    "    \n",
    "    # Draw zoomed in distribution.\n",
    "    ax = sns.distplot(word_counts[word_counts_zoomed_idxs], bins=bins, kde=0, ax=axs[2])\n",
    "    ax.set_title(\"Number of Words per Comment (Zoomed)\")\n",
    "    ax.set_xlabel(\"Number of Words\")\n",
    "    ax.set_ylabel(\"Count\")\n",
    "    \n",
    "# Execute.\n",
    "explore_words_per_comment_per_post(comments)"
   ]
  },
  {
   "cell_type": "markdown",
   "metadata": {},
   "source": [
    "The median number of words per comment is ~28 - which is more than I expected (I assumed there would be a lot of \"I love Disney!!\" type posts). There is one extreme outlier where someone wrote a 1200 word comment. Out of curiosity, I wanted to take a look at this post. I assumed the comment was either a) someone who really likes to tell strangers what's on their mind or b) someone who was ranting about their time at Disney.\n",
    "\n",
    "I was wrong on both counts.\n",
    "\n",
    "In short, the comment is from a father thanking Disney for the absolutely wonderful time he and his daughter had at Disneyland. One of the wonderful aspects about exploration is that for curious people like me, you never know what to expect. Sometimes, what you find might be quite inspiring!"
   ]
  },
  {
   "cell_type": "code",
   "execution_count": 36,
   "metadata": {
    "collapsed": false
   },
   "outputs": [
    {
     "name": "stdout",
     "output_type": "stream",
     "text": [
      "Long comment: [ '    In keeping with the theme of Disneyland Park in 2009, I wanted to tell everyone about my very best day at Disneyland in January 2009.    My name is Jeffrey and my family is my wife, Jill, and my children, Jenna (5 years old) and Jake (8 months old).  My very first trip to Disneyland was last January 2009 when my wife and I took our daughter, Jenna.  That was four months before our son, Jake, was born and we adopted him (we adopted him at birth).    I knew I was going to be in Newport Beach for half the week in January 2009 at a conference for the Alzheimer’s Association.  I am a Board Member of the Alzheimer’s Association, NYC Chapter, and was attending the conference.  I added days to the trip at the beginning of the week and brought my wife and daughter, to have a mini vacation.  We wanted to bring our daughter to Disneyland.  We had a trip scheduled to Disney World coming up in April 2009, so wanted to bring Jenna to Disneyland to “see how she did”.  She did beautifully.  Needless to say, we had a glorious time at Disneyland and a fabulous time at Disney World.  So much so that when I go to Anaheim this February 3, 2010, with my wife and daughter, again for a conference with the Alzheimer’s Association, we’re going to go back to Disneyland on February 3, 2010.    But, I wanted to tell you a story from our trip to Disneyland which sums up why it is the Magic Kingdom, and why our love for Disney will forever be sealed in our hearts.    My daughter, who very much loves the Disney princesses (she thinks she’s Cinderella), and watches their movies over and over again, was very excited to see the Disney Princesses area at Disneyland.  When we arrived at the Disney Princesses, I probably don’t need to tell you this, but it is set up as one long booth with each Princess set up in her own “vignette” in a row.  As I said, my daughter thinks she’s Cinderella so was overly excited to meet Cinderella, but the hostess told us that Cinderella was not one of the Princesses there at the time.      One of the Princesses that Jenna did meet, however, was Snow White.  When Jenna turned the corner for the last booth and saw Snow White, my daughter’s face turned into one giant smile.  Especially because Snow White was already sitting on the ground, at my daughter’s height, and was already holding her arms out for a big hug.  My daughter ran into Snow White’s arms for that hug and didn’t move.  Snow White and Jenna talked about Snow White’s movie, and the park, and all that Jenna had seen that day.  Snow White said goodbye to Jenna and gave her another hug and kiss.  Jenna said she loved meeting Snow White, but still remarked that Cinderella must have been too busy.    I spoke to the hostess and asked her if she knew when Cinderella would return, but she didn’t know the Princesses’ schedules.  She suggested that we do something in the area and when we passed that way again to catch her attention.  At that time, she would be able to tell us whether or not Cinderella had returned.  We took her advice and when we later passed by, she motioned to us that Cinderella was there and that we should get on line fast.  We did, not fully telling Jenna why, but only telling her that we might as well see the Princess again.    When it was Jenna’s turn to enter the booth, the first Princess Jenna met that time was Mulan (Mulan was not there the first time).  Mulan, like Snow White, greeted Jenna with a big hug and they had a nice talk.      This is the point in the story when it becomes magical.  Mulan then told Jenna that she knew that Jenna had a favorite Princess.  Jenna told Mulan yes, that it was Cinderella (Mulan didn’t appear too hurt by this honest admission).  Well, Mulan told Jenna that Cinderella was there and that Mulan was going to introduce them.  Before our very eyes, and without us even knowing what was happening, Mulan stood up, took my daughter by the hand, and walked her into the next booth to meet Cinderella.  There, Mulan introduced Cinderella to Jenna, who was absolutely mesmerized.  I, videotaping all of this, was in tears.  I could not believe what lengths these actors were going through to make my daughter happy.  Now, I know that you’re probably thinking that it really was no big deal for Mulan to stand up and walk my daughter to Cinderella, but in my daughter’s eyes it was the best part of the day.  In my eyes, it was the best part of the day.  And, it was exactly what you expect from Disney.    But, it doesn’t end there.  After Jenna met Cinderella and moved down the line, again the last princess was Snow White.  In fact, it was the same Snow White as before.  When my daughter turned the corner for the second time, Snow White dropped to her knees, opened her arms again, and exclaimed “Jennaaaa!  I knew you’d come back to see me!”  I was absolutely floored.    I have to say, that with the exception of my wedding day, the birth of my daughter, and the birth (and eventual adoption) of my son, that was probably the very best day of my life.  Simply because I saw the joy on my daughter’s face and knew that she would never forget the time she met the Disney Princesses.  She still talks about it.  She talks about how Mulan and she are friends, that Cinderella “knows her special”, and how Snow White remembered her.    We are very excited to see the Princesses again when we return to Disneyland on February 3, 2010.  As I said, I am returning for another Alzheimer’s Association conference and added a day to the trip just so we can bring Jenna back to Disneyland.  We left Jake at home with my parents – he’ll be coming back with us when he’s older.  I expect that our next visit to Disneyland will be just as magical as our first.    Like I said, I just wanted you to know how much your parks mean to us and how magical it is to see it in our children’s eyes.  I’ve been to Disney World many times, both as a child and later as I grew up.   But, this was the first time I went to Disneyland and the first time in any of your parks for my daughter.  I cannot thank you enough, and I will never be able to sufficiently express my awe and gratitude to the Princess for what they did for my daughter that day.    Thank you,    Jeffrey']\n"
     ]
    }
   ],
   "source": [
    "def explore_long_comment(comments):\n",
    "    \"\"\"\n",
    "    Explore the long comment.\n",
    "\n",
    "    Key arguments:\n",
    "    \n",
    "        comments -- The post comments.\n",
    "    \"\"\"\n",
    "    word_counts = np.zeros(len(comments.index))\n",
    "    for i, (url, comment) in enumerate(comments.iterrows()):\n",
    "        word_counts[i] = len(comment['body'].split(\" \"))\n",
    "\n",
    "    idx = np.where(word_counts == 1247)[0]\n",
    "    long_comment = comments.iloc[idx]\n",
    "    print(\"Long comment: {0}\".format(long_comment['body'].values))\n",
    "    \n",
    "# Execute.\n",
    "explore_long_comment(comments)"
   ]
  },
  {
   "cell_type": "markdown",
   "metadata": {},
   "source": [
    "#### Likes per Post"
   ]
  },
  {
   "cell_type": "code",
   "execution_count": 180,
   "metadata": {
    "collapsed": false
   },
   "outputs": [
    {
     "name": "stdout",
     "output_type": "stream",
     "text": [
      "General Stats:\n",
      "--------------\n",
      "Mean:\t\t1100.919503\n",
      "Median:\t\t257.000000\n",
      "Std. Dev.:\t4458.275526\n",
      "\n",
      "Top 15 Smallest Values:\t[ 2.  2.  2.  2.  2.  2.  2.  2.  2.  2.  2.  2.  2.  2.  2.]\n",
      "Top 15 Largest Values:\t[  50764.   55757.   57496.   61956.   63338.   64550.   65985.   69038.\n",
      "   71255.   72269.   81914.   86946.   97675.  133414.  134380.]\n",
      "\n"
     ]
    },
    {
     "data": {
      "image/png": "[encoded data removed]",
      "text/plain": [
       "<matplotlib.figure.Figure at 0x1151fa5f8>"
      ]
     },
     "metadata": {},
     "output_type": "display_data"
    }
   ],
   "source": [
    "def explore_likes_per_post(posts):\n",
    "    \"\"\"\n",
    "    Explore and plot the number of facebook likes per post.\n",
    "\n",
    "    Key arguments:\n",
    "    \n",
    "        posts -- The posts.\n",
    "    \"\"\"\n",
    "    like_counts = np.zeros(len(posts.index))\n",
    "    for i, (url, post) in enumerate(posts.iterrows()):\n",
    "        like_counts[i] = post['facebook_likes'] if post['facebook_likes'] != None else np.nan\n",
    "    \n",
    "    # Don't include any posts where we could not determine the number of likes in pre-processing.\n",
    "    like_counts = like_counts[~np.isnan(like_counts)]\n",
    "\n",
    "    # Print some general stats.\n",
    "    print_general_stats(like_counts)\n",
    "    \n",
    "    fig, axs = plt.subplots(figsize=(META['plots']['width'], META['plots']['height'] * 3), ncols=1, nrows=3)\n",
    "\n",
    "    # Draw boxplot.\n",
    "    ax = sns.boxplot(x=like_counts, ax=axs[0])\n",
    "    ax.set_title(\"Likes per Post Boxplot\")\n",
    "    \n",
    "    # Draw full distribution.\n",
    "    ax = sns.distplot(like_counts, kde=0, bins=30, ax=axs[1])\n",
    "    ax.set_title(\"Likes per Post\")\n",
    "    ax.set_xlabel('Number of Likes')\n",
    "    ax.set_ylabel('Count')\n",
    "    \n",
    "    # Lets look at the number of posts with 200 or less likes.\n",
    "    like_counts_zoomed_idxs = np.where(like_counts < 200)\n",
    "    bins = range(0, 201)\n",
    "    \n",
    "    # Draw zoomed in distribution.\n",
    "    ax = sns.distplot(like_counts[like_counts_zoomed_idxs], bins=bins, kde=0, ax=axs[2])\n",
    "    ax.set_title(\"Number of Likes per Post (Zoomed)\")\n",
    "    ax.set_xlabel(\"Number of Likes\")\n",
    "    ax.set_ylabel(\"Count\")\n",
    "    \n",
    "# Execute.\n",
    "explore_likes_per_post(posts.copy())"
   ]
  },
  {
   "cell_type": "markdown",
   "metadata": {},
   "source": [
    "The median number of likes per post was about 258, with a rather large deviation. Some posts had over 100,000 Likes (more on these later)!"
   ]
  },
  {
   "cell_type": "markdown",
   "metadata": {},
   "source": [
    "### Varied Exploration"
   ]
  },
  {
   "cell_type": "markdown",
   "metadata": {},
   "source": [
    "#### Most Popular Posts  (by Number of Comments)"
   ]
  },
  {
   "cell_type": "code",
   "execution_count": 38,
   "metadata": {
    "collapsed": false
   },
   "outputs": [
    {
     "name": "stdout",
     "output_type": "stream",
     "text": [
      "(91) New Retail MagicBands and Accessories to Kick Off 2015 at Walt Disney World Resort\n",
      "\t2015-01-07\n",
      "\t['MagicBands', 'MyMagic+', 'Walt Disney World Resort']\n",
      "\n",
      "(91) Book Frozen Summer Fun Premium Package at Disney’s Hollywood Studios\n",
      "\t2014-07-02\n",
      "\t[\"Disney's Hollywood Studios\", 'Walt Disney World Resort']\n",
      "\n",
      "(90) Preview of New Disney Parks Collection | PANDORA Jewelry Coming in March 2015\n",
      "\t2015-02-26\n",
      "\t['Disney California Adventure Park', 'Disneyland Park', 'Disneyland Resort', 'Epcot', 'Magic Kingdom', 'Walt Disney World Resort']\n",
      "\n",
      "(90) Perfect Petals Brunch featuring the Disney Collection by Vera Bradley Coming to Epcot on May 4, 2014\n",
      "\t2014-03-19\n",
      "\t['Epcot', 'Walt Disney World Resort']\n",
      "\n",
      "(86) First Look at New Items for Disney Princess Half Marathon Weekend 2015 at Walt Disney World Resort\n",
      "\t2015-02-10\n",
      "\t['Downtown Disney', 'MagicBands', 'MyMagic+', 'Walt Disney World Resort']\n",
      "\n",
      "(85) First Look at Disneyland Resort Diamond Celebration Merchandise\n",
      "\t2015-03-23\n",
      "\t['Disneyland Park', 'Disneyland Resort']\n",
      "\n",
      "(84) Join ‘Galactic Gathering’ for \n",
      "\t2015-03-03\n",
      "\t[\"Disney's Hollywood Studios\", 'MagicBands', 'MyMagic+', 'Special Events', 'Walt Disney World Resort']\n",
      "\n",
      "(83) All in the Details: A Castle Fit for a…Mermaid in New Fantasyland at Magic Kingdom Park\n",
      "\t2012-07-10\n",
      "\t['Magic Kingdom', 'Walt Disney World Resort']\n",
      "\n",
      "(81) New ‘Frozen Fun’ Opens at Disneyland Resort January 7\n",
      "\t2014-12-05\n",
      "\t['Disney California Adventure Park', 'Disneyland Park', 'Disneyland Resort', 'Downtown Disney District']\n",
      "\n",
      "(80) Here’s What You Need to Know to Line Up for the Disneyland Resort Diamond Celebration 24-Hour Event\n",
      "\t2015-05-18\n",
      "\t['Disney California Adventure Park', 'Disneyland Park', 'Disneyland Resort']\n",
      "\n",
      "(80) First Look at New Haunted Mansion Merchandise Appearing This Fall at Disney Parks\n",
      "\t2014-07-25\n",
      "\t['Disneyland Resort', 'Walt Disney World Resort']\n",
      "\n",
      "(79) First Look Inside Wandering Oaken’s Trading Post & Frozen Funland at Disney’s Hollywood Studios\n",
      "\t2014-07-03\n",
      "\t[\"Disney's Hollywood Studios\", 'Walt Disney World Resort']\n",
      "\n",
      "(79) Force Friday Merchandise Event Details Released\n",
      "\t2015-08-26\n",
      "\t['Disneyland Resort', 'Downtown Disney', 'Downtown Disney District', 'Walt Disney World Resort']\n",
      "\n",
      "(78) Sign Up Now: ‘Saving Mr. Banks’ Practically Perfect Preview Presented by Disney Parks Blog\n",
      "\t2013-12-03\n",
      "\t['Disneyland Resort', 'Downtown Disney District']\n",
      "\n",
      "(78) Sign Up Now to ‘Glow With the Show’ with the Disney Parks Blog\n",
      "\t2012-07-23\n",
      "\t['Disney California Adventure Park', 'Disneyland Resort']\n",
      "\n"
     ]
    }
   ],
   "source": [
    "def explore_popular_posts_by_comments(posts, comments, filings, top):\n",
    "    \"\"\"\n",
    "    Explore the most popular posts ranked by the number of comments.\n",
    "\n",
    "    Key arguments:\n",
    "    \n",
    "        posts     -- The posts.\n",
    "        comments: -- The post comments.\n",
    "        filings:  -- The post filings.\n",
    "        top:      -- The max number of posts to show.\n",
    "    \"\"\"\n",
    "    # Init the comment count to 0 for every row.\n",
    "    posts['comment_count'] = 0\n",
    "    \n",
    "    # Simple function that counts the comments for every post\n",
    "    def count_comments(post):\n",
    "        post['comment_count'] = len(comments.loc[post['url']]) if post['url'] in comments.index else 0\n",
    "        return post\n",
    "    \n",
    "    # Apply the count comments function to every row. We have to reset the index\n",
    "    #  because pandas doesn't pass it during apply().\n",
    "    posts = posts.reset_index().apply(count_comments, axis=1)\n",
    "    posts.set_index('url', inplace=True)\n",
    "    \n",
    "    posts.sort_values('comment_count', ascending=False, inplace=True)\n",
    "    \n",
    "    posts_it = posts.iterrows()\n",
    "    i = 0\n",
    "    \n",
    "    while i < top:\n",
    "        url, post = next(posts_it)\n",
    "\n",
    "        print(\"({0}) {1}\".format(post['comment_count'], post['title']))\n",
    "        print(\"\\t{0}\".format(datetime.fromtimestamp(int(post['timestamp'])).strftime(\"%Y-%m-%d\")))\n",
    "        filings_display = []\n",
    "        if url in filings.index:\n",
    "            filings_display = filings.loc[url]['filing']\n",
    "            filings_display = filings_display.tolist() if not isinstance(filings_display, str) else [filings_display]\n",
    "        print(\"\\t{0}\".format(filings_display))\n",
    "        print(\"\")\n",
    "        \n",
    "        i += 1\n",
    "\n",
    "# Execute.\n",
    "explore_popular_posts_by_comments(posts.copy(), comments.copy(), filings.copy(), 15)"
   ]
  },
  {
   "cell_type": "markdown",
   "metadata": {},
   "source": [
    "When sorting by the number of comments, no apparent trend is present. The topics seem to range from MagicBands, to Frozen, to park merchandise."
   ]
  },
  {
   "cell_type": "markdown",
   "metadata": {},
   "source": [
    "#### Most Popular Posts  (by Facebook Likes)"
   ]
  },
  {
   "cell_type": "code",
   "execution_count": 39,
   "metadata": {
    "collapsed": false
   },
   "outputs": [
    {
     "name": "stdout",
     "output_type": "stream",
     "text": [
      "(134380) Star Wars-Themed Lands Coming to Walt Disney World and Disneyland Resorts\n",
      "\t2015-08-15\n",
      "\t[\"Disney's Hollywood Studios\", 'Disneyland Park', 'Disneyland Resort', 'Walt Disney World Resort']\n",
      "\n",
      "(133414) Get Ready to Experience ‘Frozen’ Summer Fun – Live at Disney’s Hollywood Studios\n",
      "\t2014-06-26\n",
      "\t[\"Disney's Hollywood Studios\", 'Walt Disney World Resort']\n",
      "\n",
      "(97675) ‘Frozen’ Attraction Coming to Epcot\n",
      "\t2014-09-12\n",
      "\t[\"Disney's Hollywood Studios\", 'Epcot', 'Magic Kingdom', 'Special Events', 'Walt Disney World Resort']\n",
      "\n",
      "(86946) New Retail MagicBands and Accessories to Kick Off 2015 at Walt Disney World Resort\n",
      "\t2015-01-07\n",
      "\t['MagicBands', 'MyMagic+', 'Walt Disney World Resort']\n",
      "\n",
      "(81914) Bringing the World of AVATAR to Life at Disney’s Animal Kingdom\n",
      "\t2015-02-26\n",
      "\t[\"Disney's Animal Kingdom\", 'Walt Disney World Resort']\n",
      "\n",
      "(72269) Disney Cruise Line Introduces \n",
      "\t2015-02-11\n",
      "\t['Disney Cruise Line']\n",
      "\n",
      "(71255) Seven Dwarfs Mine Train Opens May 28 at Walt Disney World Resort\n",
      "\t2014-05-02\n",
      "\t['Magic Kingdom', 'Walt Disney World Resort']\n",
      "\n",
      "(69038) New ‘Frozen Fun’ Opens at Disneyland Resort January 7\n",
      "\t2014-12-05\n",
      "\t['Disney California Adventure Park', 'Disneyland Park', 'Disneyland Resort', 'Downtown Disney District']\n",
      "\n",
      "(65985) Keeping the ‘Frozen Summer Fun’ Going at Disney’s Hollywood Studios\n",
      "\t2014-08-07\n",
      "\t[\"Disney's Hollywood Studios\", 'Walt Disney World Resort']\n",
      "\n",
      "(64550) New Experiences Coming to the Disney Dream When Transformed Spaces Debut This Fall\n",
      "\t2015-04-21\n",
      "\t['Disney Cruise Line']\n",
      "\n",
      "(63338) Disney Cruise Line Kicks off this Summer’s Mediterranean Sailings\n",
      "\t2015-08-10\n",
      "\t['Disney Cruise Line']\n",
      "\n",
      "(61956) Remembering Annette Funicello at Disneyland Park\n",
      "\t2013-04-08\n",
      "\t['Celebrity Visits', 'Disney History', 'Disneyland Park', 'Disneyland Resort']\n",
      "\n",
      "(57496) Disney Cruise Line Announces New Sailings from the Big Apple in 2016\n",
      "\t2015-05-18\n",
      "\t['Disney Cruise Line']\n",
      "\n",
      "(55757) Construction Begins For AVATAR-Inspired Land At Disney’s Animal Kingdom\n",
      "\t2014-01-10\n",
      "\t[\"Disney's Animal Kingdom\", 'Walt Disney World Resort']\n",
      "\n",
      "(50764) Top Five: Halloween on the High Seas with Disney Cruise Line\n",
      "\t2015-08-03\n",
      "\t['Disney Cruise Line']\n",
      "\n"
     ]
    }
   ],
   "source": [
    "def explore_popular_posts_by_likes(posts, comments, filings, top):\n",
    "    \"\"\"\n",
    "    Explore the most popular posts ranked by the number of likes.\n",
    "\n",
    "    Key arguments:\n",
    "    \n",
    "        posts    -- The posts.\n",
    "        comments -- The post comments.\n",
    "        filings  -- The post filings.\n",
    "        top      -- The top number of posts to show.\n",
    "    \"\"\"\n",
    "    posts.sort_values('facebook_likes', ascending=False, inplace=True)\n",
    "    \n",
    "    posts_it = posts.iterrows()\n",
    "    i = 0\n",
    "    \n",
    "    while i < top:\n",
    "        url, post = next(posts_it)\n",
    "\n",
    "        print(\"({0}) {1}\".format(post['facebook_likes'], post['title']))\n",
    "        print(\"\\t{0}\".format(datetime.fromtimestamp(int(post['timestamp'])).strftime(\"%Y-%m-%d\")))\n",
    "        filings_display = []\n",
    "        if url in filings.index:\n",
    "            filings_display = filings.loc[url]['filing']\n",
    "            filings_display = filings_display.tolist() if not isinstance(filings_display, str) else [filings_display]\n",
    "        print(\"\\t{0}\".format(filings_display))\n",
    "        print(\"\")\n",
    "        \n",
    "        i += 1\n",
    "\n",
    "# Execute. Send a copy of posts since we will be manipulating it.\n",
    "explore_popular_posts_by_likes(posts.copy(), comments.copy(), filings.copy(), 15)"
   ]
  },
  {
   "cell_type": "markdown",
   "metadata": {},
   "source": [
    "Unlike sorting by comments, sorting by Facebook Likes showed a few prominent topics. Not surprisingly, Star Wars and Frozen top the list. One topic that surprised me was the number of popular cruise-related topics. I was intrigued enough to bookmark it for further analysis (more on this later)."
   ]
  },
  {
   "cell_type": "markdown",
   "metadata": {},
   "source": [
    "#### Most Popular Topics (by Number of Comments)"
   ]
  },
  {
   "cell_type": "code",
   "execution_count": 181,
   "metadata": {
    "collapsed": false
   },
   "outputs": [
    {
     "data": {
      "image/png": "[encoded data removed]",
      "text/plain": [
       "<matplotlib.figure.Figure at 0x117a5a160>"
      ]
     },
     "metadata": {},
     "output_type": "display_data"
    }
   ],
   "source": [
    "def explore_popular_topics_by_comments(posts, filings):\n",
    "    \"\"\"\n",
    "    Explore the most popular posts ranked by the number of comments.\n",
    "\n",
    "    Key arguments:\n",
    "    \n",
    "        posts   -- The posts.\n",
    "        filings -- The post filings.\n",
    "    \"\"\"\n",
    "    # Init the count to 0 for every row.\n",
    "    filings['comment_count'] = 0\n",
    "    \n",
    "    # Simple function that counts the number of comments for every topic.\n",
    "    def count_comments(filing):\n",
    "        filing['comment_count'] = len(comments.loc[filing['url']]) if filing['url'] in comments.index else 0\n",
    "        return filing\n",
    "    \n",
    "    # Apply the count comments function to every row. We have to reset the index\n",
    "    #  because pandas doesn't pass it during apply().\n",
    "    filings = filings.reset_index().apply(count_comments, axis=1)\n",
    "    filings.set_index('url', inplace=True)\n",
    "    \n",
    "    grouped = filings.groupby('filing', as_index=False).sum()\n",
    "    grouped.sort_values('comment_count', ascending=False, inplace=True)\n",
    "    \n",
    "    fig, axs = plt.subplots(figsize=(META['plots']['width'], META['plots']['height']), ncols=1, nrows=1)\n",
    "    \n",
    "    # Draw bar plot.\n",
    "    ax = sns.barplot(x='filing', y='comment_count', color=META['plots']['color'], data=grouped, ax=axs)\n",
    "    ax.set_title(\"Comments per Topic\")\n",
    "    ax.set_xlabel(\"Topic\")\n",
    "    ax.set_ylabel(\"Number of Comments\")\n",
    "    \n",
    "    # Make the labels vertical.\n",
    "    for item in ax.get_xticklabels():\n",
    "        item.set_rotation(90)\n",
    "\n",
    "# Execute.\n",
    "explore_popular_topics_by_comments(posts.copy(), filings.copy())"
   ]
  },
  {
   "cell_type": "markdown",
   "metadata": {},
   "source": [
    "At a quick glance, it is apparent that the most popular topics are related to the parks with \"Disney World\" acting as a catch-all. Magic Kingdom seemed to be the most popular park, followed by Disneyland Park. "
   ]
  },
  {
   "cell_type": "markdown",
   "metadata": {},
   "source": [
    "#### Most Popular Topics (by Facebook Likes)"
   ]
  },
  {
   "cell_type": "code",
   "execution_count": 182,
   "metadata": {
    "collapsed": false
   },
   "outputs": [
    {
     "data": {
      "image/png": "[encoded data removed]",
      "text/plain": [
       "<matplotlib.figure.Figure at 0x11a40ce80>"
      ]
     },
     "metadata": {},
     "output_type": "display_data"
    }
   ],
   "source": [
    "def explore_popular_topics_by_likes(posts, filings):\n",
    "    \"\"\"\n",
    "    Explore the most popular posts ranked by the number of likes.\n",
    "\n",
    "    Key arguments:\n",
    "    \n",
    "        posts   -- The posts.\n",
    "        filings -- The post filings.\n",
    "    \"\"\"\n",
    "    # Init the count to 0 for every row.\n",
    "    filings['facebook_likes'] = 0\n",
    "    \n",
    "    # Simple function that counts the likes for every post.\n",
    "    def count_likes(filing):\n",
    "        filing['facebook_likes'] = posts.loc[filing['url']]['facebook_likes']\n",
    "        return filing\n",
    "    \n",
    "    # Apply the count likes function to every row. We have to reset the index\n",
    "    #  because pandas doesn't pass it during apply().\n",
    "    filings = filings.reset_index().apply(count_likes, axis=1)\n",
    "    filings.set_index('url', inplace=True)\n",
    "    \n",
    "    grouped = filings.groupby('filing', as_index=False).sum()\n",
    "    grouped.sort_values('facebook_likes', ascending=False, inplace=True)\n",
    "    \n",
    "    fig, axs = plt.subplots(figsize=(META['plots']['width'], META['plots']['height']), ncols=1, nrows=1)\n",
    "    \n",
    "    # Draw bar plot.\n",
    "    ax = sns.barplot(x='filing', y='facebook_likes', color=META['plots']['color'], data=grouped, ax=axs)\n",
    "    ax.set_title(\"Facebook Likes per Topics\")\n",
    "    ax.set_xlabel(\"Topic\")\n",
    "    ax.set_ylabel(\"Number of Facebook Likes\")\n",
    "    \n",
    "    # Make the labels vertical.\n",
    "    for item in ax.get_xticklabels():\n",
    "        item.set_rotation(90)\n",
    "\n",
    "# Execute.\n",
    "explore_popular_topics_by_likes(posts.copy(), filings.copy())"
   ]
  },
  {
   "cell_type": "markdown",
   "metadata": {},
   "source": [
    "Aggregating by Likes was very similar to aggregating by comments. "
   ]
  },
  {
   "cell_type": "markdown",
   "metadata": {},
   "source": [
    "#### Most Common Commenter Locations"
   ]
  },
  {
   "cell_type": "code",
   "execution_count": 183,
   "metadata": {
    "collapsed": false
   },
   "outputs": [
    {
     "data": {
      "image/png": "[encoded data removed]",
      "text/plain": [
       "<matplotlib.figure.Figure at 0x118582a20>"
      ]
     },
     "metadata": {},
     "output_type": "display_data"
    }
   ],
   "source": [
    "def explore_commenter_locations(comments):\n",
    "    \"\"\"\n",
    "    Explore the locations of all the commenters.\n",
    "\n",
    "    Key arguments:\n",
    "        comments -- The comments.\n",
    "    \"\"\"\n",
    "    # We only want to look at comments that are not the blog poster.\n",
    "    comments_without_author = comments[comments['is_post_author'] == False]\n",
    "    # Find all the unique locations and their counts.\n",
    "    counts = comments_without_author['location'].value_counts()\n",
    "    # Lets only look at locations that have more than 100 commentors.\n",
    "    count_idx = np.where(counts.values > 100)\n",
    "\n",
    "    fig, axs = plt.subplots(figsize=(META['plots']['width'], META['plots']['height']), ncols=1, nrows=1)\n",
    "    \n",
    "    # Draw bar plot.\n",
    "    ax = sns.barplot(x=counts.index[count_idx], y=counts.values[count_idx], color=META['plots']['color'], ax=axs)\n",
    "    ax.set_title(\"Comments by Location\")\n",
    "    ax.set_xlabel(\"Location\")\n",
    "    ax.set_ylabel(\"Number of Comments\")\n",
    "    \n",
    "# Execute.\n",
    "explore_commenter_locations(comments.copy())"
   ]
  },
  {
   "cell_type": "markdown",
   "metadata": {},
   "source": [
    "Not surprisingly, the majority of the comments came from CA, FL, NY, and TX (which also happen to be the biggest States by population)."
   ]
  },
  {
   "cell_type": "markdown",
   "metadata": {},
   "source": [
    "#### Comments per Post Year"
   ]
  },
  {
   "cell_type": "code",
   "execution_count": 184,
   "metadata": {
    "collapsed": false
   },
   "outputs": [
    {
     "data": {
      "image/png": "[encoded data removed]",
      "text/plain": [
       "<matplotlib.figure.Figure at 0x117a63470>"
      ]
     },
     "metadata": {},
     "output_type": "display_data"
    }
   ],
   "source": [
    "def explore_comments_per_post_year(posts, comments):\n",
    "    \"\"\"\n",
    "    Explore the comments per year.\n",
    "    \n",
    "    Key arguments:\n",
    "    \n",
    "        posts    -- The posts.\n",
    "        comments -- The comments.\n",
    "    \"\"\"\n",
    "    \n",
    "    # We only want to look at comments that are not the blog poster.\n",
    "    comments = comments[comments['is_post_author'] == False].copy()\n",
    "    \n",
    "    # Merge the post timestamp into the comments.\n",
    "    comments = pd.merge(comments, posts[['timestamp']], left_index=True, right_index=True, suffixes=('_comment', '_post'))\n",
    "    \n",
    "    # Determine the datetime using the post's timestamp.\n",
    "    comments['datetime'] = pd.to_datetime(comments['timestamp_post'], unit='s')\n",
    "    comments['year'] = comments['datetime'].map(lambda x: int(x.strftime('%Y')))\n",
    "    \n",
    "    # Remove 2009, 2015 since we have an incomplete data set for those years.\n",
    "    comments = comments[(comments['year'] > 2009) & (comments['year'] < 2015)].copy()\n",
    "    \n",
    "    counts = comments['year'].value_counts()\n",
    "    counts.sort_index(inplace=True)\n",
    "\n",
    "    fig, axs = plt.subplots(figsize=(META['plots']['width'], META['plots']['height']), ncols=1, nrows=1)\n",
    "    \n",
    "    # Draw bar plot.\n",
    "    ax = sns.barplot(x=counts.index, y=counts.values, color=META['plots']['color'], ax=axs)\n",
    "    ax.set_title(\"Comments by Year\")\n",
    "    ax.set_xlabel(\"Year\")\n",
    "    ax.set_ylabel(\"Number of Comments\")\n",
    "    \n",
    "# Execute.\n",
    "explore_comments_per_post_year(posts.copy(), comments.copy())"
   ]
  },
  {
   "cell_type": "markdown",
   "metadata": {},
   "source": [
    "Surprisingly, the number of comments seemed to decrease year after year. This could mean that either the blog was becoming less popular or an alternative means of feedback was being used..."
   ]
  },
  {
   "cell_type": "markdown",
   "metadata": {},
   "source": [
    "#### Likes by Post Year"
   ]
  },
  {
   "cell_type": "code",
   "execution_count": 185,
   "metadata": {
    "collapsed": false
   },
   "outputs": [
    {
     "data": {
      "image/png": "[encoded data removed]",
      "text/plain": [
       "<matplotlib.figure.Figure at 0x11854dac8>"
      ]
     },
     "metadata": {},
     "output_type": "display_data"
    }
   ],
   "source": [
    "def explore_likes_by_post_year(posts):\n",
    "    \"\"\"\n",
    "    Explore number of likes by year.\n",
    "\n",
    "    Key arguments:\n",
    "    \n",
    "        posts -- The posts.\n",
    "    \"\"\"\n",
    "    \n",
    "    # Determine the year for each post.\n",
    "    posts['datetime'] = pd.to_datetime(posts['timestamp'], unit='s')\n",
    "    posts['year'] = posts['datetime'].map(lambda x: int(x.strftime('%Y')))\n",
    "    \n",
    "    # Remove 2009 since we have an incomplete data set for that year.\n",
    "    posts = posts[(posts['year'] > 2009) & (posts['year'] < 2015)].copy()\n",
    "    \n",
    "    # Keep only facebook likes and year.\n",
    "    posts = posts[['year', 'facebook_likes']].copy()\n",
    "    \n",
    "    grouped = posts.groupby('year', as_index=False).sum()\n",
    "    grouped.sort_values('year', inplace=True)\n",
    "\n",
    "    \n",
    "    fig, axs = plt.subplots(figsize=(META['plots']['width'], META['plots']['height']), ncols=1, nrows=1)\n",
    "    \n",
    "    # Draw bar plot.\n",
    "    ax = sns.barplot(x='year', y='facebook_likes', color=META['plots']['color'], data=grouped, ax=axs)\n",
    "    ax.set_title(\"Likes by Year\")\n",
    "    ax.set_xlabel(\"Year\")\n",
    "    ax.set_ylabel(\"Number of Likes\")\n",
    "    \n",
    "    \n",
    "# Execute.\n",
    "explore_likes_by_post_year(posts.copy())"
   ]
  },
  {
   "cell_type": "markdown",
   "metadata": {},
   "source": [
    "Unlike the number of comments, the number of Facebook Likes have exploded year after year. The likely justification is two-fold:\n",
    "\n",
    "- Facebook has been steadily rising in popularity\n",
    "- It is easier for readers to press the \"like button\" than to write a comment.\n",
    "\n",
    "Due to increased usage, I determined that Facebook Likes would be a better measure of popularity for future analysis."
   ]
  },
  {
   "cell_type": "markdown",
   "metadata": {},
   "source": [
    "#### Likes by Post Month"
   ]
  },
  {
   "cell_type": "code",
   "execution_count": 186,
   "metadata": {
    "collapsed": false
   },
   "outputs": [
    {
     "data": {
      "image/png": "[encoded data removed]",
      "text/plain": [
       "<matplotlib.figure.Figure at 0x1151d3dd8>"
      ]
     },
     "metadata": {},
     "output_type": "display_data"
    }
   ],
   "source": [
    "def explore_likes_by_post_month(posts):\n",
    "    \"\"\"\n",
    "    Explore number of post likes by month.\n",
    "\n",
    "    Key arguments:\n",
    "    \n",
    "        posts -- The posts.\n",
    "    \"\"\"\n",
    "    \n",
    "    # Determine the month for each post.\n",
    "    posts['datetime'] = pd.to_datetime(posts['timestamp'], unit='s')\n",
    "    posts['year'] = posts['datetime'].map(lambda x: int(x.strftime('%Y')))\n",
    "    posts['month'] = posts['datetime'].map(lambda x: x.strftime('%m'))\n",
    "    \n",
    "    # Keep only recent years and drop 2015 since we have an incomplete data set.\n",
    "    posts = posts[(posts['year'] > 2010) & (posts['year'] < 2015)].copy()\n",
    "    \n",
    "    # Keep only facebook likes and month.\n",
    "    posts = posts[['month', 'facebook_likes']].dropna().copy()\n",
    "    posts['facebook_likes'] = pd.Series(posts['facebook_likes'], dtype=np.float)\n",
    "    \n",
    "    grouped = posts.groupby('month', as_index=False).mean()\n",
    "    grouped.sort_values('month', inplace=True)\n",
    "    \n",
    "    fig, axs = plt.subplots(figsize=(META['plots']['width'], META['plots']['height']), ncols=1, nrows=1)\n",
    "    \n",
    "    # Draw bar plot.\n",
    "    ax = sns.barplot(x='month', y='facebook_likes', data=grouped, color=META['plots']['color'], ax=axs)\n",
    "    ax.set_title(\"Likes by Month\")\n",
    "    ax.set_xlabel(\"Month\")\n",
    "    ax.set_ylabel(\"Mean Number of Likes\")\n",
    "    \n",
    "# Execute.\n",
    "explore_likes_by_post_month(posts.copy())"
   ]
  },
  {
   "cell_type": "markdown",
   "metadata": {},
   "source": [
    "When aggregating the number of Likes by month, we see a fairly consistent pattern. The exception is February, which had a slightly smaller average number of Likes."
   ]
  },
  {
   "cell_type": "markdown",
   "metadata": {},
   "source": [
    "#### Likes by Post Day of Week"
   ]
  },
  {
   "cell_type": "code",
   "execution_count": 187,
   "metadata": {
    "collapsed": false,
    "scrolled": true
   },
   "outputs": [
    {
     "data": {
      "image/png": "[encoded data removed]",
      "text/plain": [
       "<matplotlib.figure.Figure at 0x118589438>"
      ]
     },
     "metadata": {},
     "output_type": "display_data"
    }
   ],
   "source": [
    "def explore_likes_by_post_dow(posts):\n",
    "    \"\"\"\n",
    "    Explore number of post likes by month.\n",
    "\n",
    "    Key arguments:\n",
    "    \n",
    "        posts -- The posts.\n",
    "    \"\"\"\n",
    "    \n",
    "    # Determine the month for each post.\n",
    "    posts['datetime'] = pd.to_datetime(posts['timestamp'], unit='s')\n",
    "    posts['dow'] = posts['datetime'].map(lambda x: x.strftime('%w'))\n",
    "    \n",
    "    # Keep only facebook likes and month.\n",
    "    posts = posts[['dow', 'facebook_likes']].dropna().copy()\n",
    "    posts['facebook_likes'] = pd.Series(posts['facebook_likes'], dtype=np.float)\n",
    "    \n",
    "    grouped = posts.groupby('dow', as_index=False).mean()\n",
    "    grouped.sort_values('dow', inplace=True)\n",
    "    \n",
    "    fig, axs = plt.subplots(figsize=(META['plots']['width'], META['plots']['height']), ncols=1, nrows=1)\n",
    "    \n",
    "    # Draw bar plot.\n",
    "    #sns.palplot()\n",
    "    ax = sns.barplot(x='dow', y='facebook_likes', data=grouped, color=META['plots']['color'], ax=axs)\n",
    "    ax.set_title(\"Likes by Day of Week\")\n",
    "    ax.set_xlabel(\"Day of Week of Post\")\n",
    "    ax.set_ylabel(\"Mean Number of Likes\")\n",
    "    \n",
    "    \n",
    "# Execute.\n",
    "explore_likes_by_post_dow(posts.copy())"
   ]
  },
  {
   "cell_type": "markdown",
   "metadata": {},
   "source": [
    "When aggregating the number of Likes by day of week, we see an obvious pattern. Both Saturday and Sunday (the weekend) have a significantly lower average number of Likes. I was intrigued by the pattern enough to bookmark it for further analysis (more on this later)."
   ]
  },
  {
   "cell_type": "markdown",
   "metadata": {},
   "source": [
    "#### Comments by Time of the Day"
   ]
  },
  {
   "cell_type": "code",
   "execution_count": 188,
   "metadata": {
    "collapsed": false
   },
   "outputs": [
    {
     "data": {
      "image/png": "[encoded data removed]",
      "text/plain": [
       "<matplotlib.figure.Figure at 0x11acfa0b8>"
      ]
     },
     "metadata": {},
     "output_type": "display_data"
    }
   ],
   "source": [
    "def explore_comments_by_time_of_day(comments):\n",
    "    \"\"\"\n",
    "    Explore the most common time of day for comments.\n",
    "\n",
    "    Args:\n",
    "    \n",
    "        comments -- The comments.\n",
    "    \"\"\"\n",
    "    \n",
    "    # We only want to look at comments that are not the blog poster.\n",
    "    comments = pd.DataFrame(comments[comments['is_post_author'] == False])\n",
    "    comments['datetime'] =  pd.to_datetime(comments['timestamp'], unit='s')\n",
    "    comments['tod'] =  comments['datetime'].map(lambda x: x.strftime('%H'))\n",
    "    \n",
    "    counts = comments['tod'].value_counts()\n",
    "    counts.sort_index(inplace=True)\n",
    "\n",
    "    fig, axs = plt.subplots(figsize=(META['plots']['width'], META['plots']['height']), ncols=1, nrows=1)\n",
    "    \n",
    "    # Draw bar plot.\n",
    "    ax = sns.barplot(x=counts.index, y=counts.values, color=META['plots']['color'], ax=axs)\n",
    "    ax.set_title(\"Comments by Time of Day\")\n",
    "    ax.set_xlabel(\"Time of Day\")\n",
    "    ax.set_ylabel(\"Number of Comments\")\n",
    "    \n",
    "# Execute.\n",
    "explore_comments_by_time_of_day(comments.copy())"
   ]
  },
  {
   "cell_type": "markdown",
   "metadata": {},
   "source": [
    "Based on the number of comments by time of day, it is evident that people prefer posting comments in the afternoon or evening (Eastern Standard Time). This is not surprising since 0800-1000 EST most people are either getting ready for work or are not even up yet!"
   ]
  },
  {
   "cell_type": "markdown",
   "metadata": {},
   "source": [
    "### Exploration Analysis and Questions\n",
    "\n",
    "At this point, some basic exploration of the data set is complete. Some things to note:\n",
    "\n",
    "- Most of the counts follow a Poisson-like distribution.\n",
    "- Facebook Likes are increasing year after year and are likely a better estimate of \"popularity\".\n",
    "- Popular Disney topics are the movies and the parks.\n",
    "- The most active States in regards to the blog are CA, FL, TX, and NY.\n",
    "- There appears to be distinct days/times when the blog is more \"active\".\n",
    "\n",
    "Deeper analysis can be performed based on the findings from the basic exploration (e.g. What are some common topics amongst the most popular posts?). Ultimately, analysis that will be beneficial for the company is important - not just interesting facts. Topics that comes to mind are:\n",
    "\n",
    "- Why are cruise line posts so popular?\n",
    "- Is there an advantage to posting on a weekday vs. weekend?\n",
    "- Can we identify \"negative\" comments? (Comments where the user seems angry)"
   ]
  },
  {
   "cell_type": "markdown",
   "metadata": {},
   "source": [
    "## Cruising on the Rise"
   ]
  },
  {
   "cell_type": "code",
   "execution_count": 189,
   "metadata": {
    "collapsed": false
   },
   "outputs": [
    {
     "data": {
      "image/png": "[encoded data removed]",
      "text/plain": [
       "<matplotlib.figure.Figure at 0x1185ea6a0>"
      ]
     },
     "metadata": {},
     "output_type": "display_data"
    }
   ],
   "source": [
    "def analyze_cruise_lines(posts, filings):\n",
    "    \"\"\"\n",
    "    Explore the cruise lines.\n",
    "\n",
    "    Key arguments:\n",
    "    \n",
    "        posts   -- The posts.\n",
    "        filings -- The post filings.\n",
    "    \"\"\"\n",
    "    \n",
    "    cruise_filings = filings[filings['filing'] == \"Disney Cruise Line\"]\n",
    "    assert(np.all(cruise_filings['filing'].values == \"Disney Cruise Line\"))\n",
    "    \n",
    "    # Merge the filings and the posts\n",
    "    cruise_posts = pd.merge(posts, cruise_filings, how='right', left_index=True, right_index=True)\n",
    "    \n",
    "    # Use the post's timestamp to determine the datetime.\n",
    "    cruise_posts['datetime'] = pd.to_datetime(cruise_posts['timestamp'], unit='s')\n",
    "    cruise_posts['year'] = cruise_posts['datetime'].map(lambda x: int(x.strftime('%Y')))\n",
    "    cruise_posts['month'] = cruise_posts['datetime'].map(lambda x: x.strftime('%m'))\n",
    "    \n",
    "    # We're going to be using facebook likes to measure popularity.\n",
    "    #  only look at recent years.\n",
    "    cruise_posts = cruise_posts[cruise_posts['year'] >= 2013].dropna().copy()\n",
    "    \n",
    "    # Keep only the year, month, and facebook likes.\n",
    "    cruise_posts = cruise_posts[['year', 'month', 'facebook_likes']]\n",
    "    cruise_posts['facebook_likes'] = cruise_posts['facebook_likes'].map(lambda x: int(x))\n",
    "    \n",
    "    # Group our items by year and month and find the mean number of facebook likes.\n",
    "    grouped = cruise_posts.groupby(['year', 'month'], as_index=False).sum()\n",
    "    grouped['id'] = grouped[['year', 'month']].apply(lambda x: \"{0}-{1}\".format(x[0], x[1]), axis=1)\n",
    "    \n",
    "    ax = sns.barplot(x=\"id\", y=\"facebook_likes\", data=grouped, color=META['plots']['color'])\n",
    "    \n",
    "    ax.set_title(\"Facebook Likes over Time\")\n",
    "    ax.set_xlabel(\"Year/Month\")\n",
    "    ax.set_ylabel(\"Facebook Likes\")\n",
    "    \n",
    "    # Make the labels vertical.\n",
    "    for item in ax.get_xticklabels():\n",
    "        item.set_rotation(90)\n",
    "    \n",
    "analyze_cruise_lines(posts.copy(), filings.copy())"
   ]
  },
  {
   "cell_type": "markdown",
   "metadata": {},
   "source": [
    "Deeper analysis conflicts with what was observed when the top posts by Facebook Likes were analyzed. Although there were a few Cruise Line posts that were popular, Cruise Lines Likes is consistently low. The exceptions were a brief spike during the winter of 2015 and the large spike in August of 2015 which was a single post publicizing the availability of Cruise Lines in New York.\n",
    "\n",
    "Based on Facebook Likes, there seems to be no evidence that Disney Cruise Lines are consistently growing in popularity.\n",
    "\n",
    "How could this information be beneficial? According to Cruise Market Watch, the predicted amount of cruise line passengers is increasing."
   ]
  },
  {
   "cell_type": "code",
   "execution_count": 130,
   "metadata": {
    "collapsed": false
   },
   "outputs": [
    {
     "data": {
      "image/png": "[encoded data removed]",
      "text/plain": [
       "<IPython.core.display.Image object>"
      ]
     },
     "execution_count": 130,
     "metadata": {},
     "output_type": "execute_result"
    }
   ],
   "source": [
    "from IPython.display import Image\n",
    "Image(filename='img/cruises.png')"
   ]
  },
  {
   "cell_type": "markdown",
   "metadata": {},
   "source": [
    "If cruising in general is growing in popularity, but Disney Cruise Lines is not, Disney Corporation could be missing out on potential growth. "
   ]
  },
  {
   "cell_type": "markdown",
   "metadata": {},
   "source": [
    "## Weekday vs. Weekend Posts\n",
    "\n",
    "Earlier it was observed that there was a distinct difference in the number of Facebook Likes between posts that were on the weekdays and posts that were on the weekend. A Hypothesis Test can be used to show if the apparent difference is caused by chance.\n",
    "\n",
    "*Null Hypothesis*: There is no difference in the number of Facebook Likes between weekday and weekend."
   ]
  },
  {
   "cell_type": "code",
   "execution_count": 141,
   "metadata": {
    "collapsed": false
   },
   "outputs": [
    {
     "name": "stdout",
     "output_type": "stream",
     "text": [
      "Weekday Sample Size:\t4308\n",
      "Weekday Variance:\t25971395.352810092\n",
      "Weekend Sample Size:\t514\n",
      "Weekend Variance:\t39515250.021771714\n",
      "\n",
      "P-Value: 0.033073934743739646\n"
     ]
    }
   ],
   "source": [
    "def weekday_vs_weekend_popularity(posts):\n",
    "    \"\"\"\n",
    "    \"\"\"\n",
    "    \n",
    "    # Determine the day of the week (dow) for each post.\n",
    "    posts['datetime'] = pd.to_datetime(posts['timestamp'], unit='s')\n",
    "    posts['year'] = posts['datetime'].map(lambda x: int(x.strftime('%Y')))\n",
    "    posts['dow'] = posts['datetime'].map(lambda x: int(x.strftime('%w')))\n",
    "    \n",
    "    # Take a look at only the recent years.\n",
    "    posts = posts[posts['year'] >= 2011].dropna().copy()\n",
    "    \n",
    "    # Keep only facebook likes and dow.\n",
    "    posts = posts[['dow', 'facebook_likes']].copy().dropna()\n",
    "    \n",
    "    posts_weekday = posts[(posts['dow'] != 0) & (posts['dow'] != 6)]\n",
    "    posts_weekend = posts[(posts['dow'] == 0) | (posts['dow'] == 6)]\n",
    "    \n",
    "    # Sanity check.\n",
    "    assert(len(posts) == len(posts_weekday) + len(posts_weekend))\n",
    "    \n",
    "    print(\"Weekday Sample Size:\\t{0}\".format(len(posts_weekday)))\n",
    "    print(\"Weekday Variance:\\t{0}\".format(np.var(posts_weekday['facebook_likes'].values)))\n",
    "    print(\"Weekend Sample Size:\\t{0}\".format(len(posts_weekend)))\n",
    "    print(\"Weekend Variance:\\t{0}\".format(np.var(posts_weekend['facebook_likes'].values)))\n",
    "    print()\n",
    "    \n",
    "    # Run a ttest for 2 independent samples. The weekday sample size is significnatly larger and has a different\n",
    "    #  variance than the weekend sample. Use Welch's t-test.\n",
    "    test = sp.stats.ttest_ind(\n",
    "        posts_weekday['facebook_likes'].values, posts_weekend['facebook_likes'].values, equal_var=False)\n",
    "    \n",
    "    print(\"P-Value: {0}\".format(test.pvalue))\n",
    "    \n",
    "weekday_vs_weekend_popularity(posts.copy())"
   ]
  },
  {
   "cell_type": "markdown",
   "metadata": {},
   "source": [
    "### Summary\n",
    "\n",
    "The p-value is less than the 5%, so the null hypothesis can be safely rejected. To be explicity clear, this only proves that the chances of seeing the observed difference is very unlikely to have happened by chance. It only provides *some* evidence that the reason for seeing the observed difference is due to the day of the week.\n",
    "\n",
    "How could this information be beneficial? The blog is used as a method to publicize events at Disney. Based on the simple Hypothesis Test, it would *likely* be advantageous for a Blogger to post on the weekend in order to maximize popularity.\n",
    "\n",
    "*(Note: At the time of writing this, the statistics community is having revolt against the misuse of p-values... I'll update this analysis should I discover that a different method is more appropriate.)*"
   ]
  },
  {
   "cell_type": "markdown",
   "metadata": {},
   "source": [
    "## Negative Comment Detection (Sentiment Analysis)\n",
    "\n",
    "While sentiment is largely subjective, sentiment quantification can be very useful to businesses looking to understand consumer reactions.\n",
    "\n",
    "In the case of Disney Corporation, finding negative sentiments would be extremely advantageous. If Disney could determine in what areas customers were most dissatisfied, proper action could be taken to improve the situation.\n",
    "\n",
    "In order to detect negative comments, a sentiment model must be constructed by training on positive and negative examples (supervised learning). The following methods are the step-by-step process in developing the sentiment model. \n",
    "\n",
    "*(Note: For the tech-savy, I provided decent comments in the code for each phase. However, a deep understanding of (Deep) Neural Networks and TensorFlow is required).*"
   ]
  },
  {
   "cell_type": "markdown",
   "metadata": {},
   "source": [
    "### Training Data\n",
    "\n",
    "The training data used to build the sentiment model came from a variety of sources. The largest source was Cornell's Movie Review data set which contained reviews of movies that were classified as \"positive\" (good review) or \"negative\" (bad review). The model was **not** trained on any of the comments from the Disney Blog as I did not have time to \"hand\" label thousands of comments. Once all the sources were obtained, they were merged into a single DataFrame."
   ]
  },
  {
   "cell_type": "code",
   "execution_count": 142,
   "metadata": {
    "collapsed": false
   },
   "outputs": [
    {
     "name": "stdout",
     "output_type": "stream",
     "text": [
      "Total: 62705\n",
      "Positive Sentiments: 31385\n",
      "Negative Sentiments: 31320\n",
      "\n",
      "   sentiment                                               text\n",
      "0          1  now all apple has to do is get swype on the ip...\n",
      "1          1  apple will be adding more carrier support to t...\n",
      "2          1  hilarious youtube video - guy does a duet with...\n",
      "3          1  rim you made it too easy for me to switch to a...\n",
      "4          1  the 16 strangest things siri has said so far ....\n"
     ]
    }
   ],
   "source": [
    "def sentiment_display_details():\n",
    "    \"\"\"Display the sentiment dataframe.\"\"\"\n",
    "    \n",
    "    df = sentiment_dataframe()\n",
    "    print(\"Total: {:d}\".format(len(df)))\n",
    "    print(\"Positive Sentiments: {:d}\".format(len(df[df['sentiment'] == 1])))\n",
    "    print(\"Negative Sentiments: {:d}\".format(len(df[df['sentiment'] == 0])))\n",
    "    print(\"\")\n",
    "    print(df.head())\n",
    "\n",
    "sentiment_display_details()"
   ]
  },
  {
   "cell_type": "markdown",
   "metadata": {},
   "source": [
    "### Cleaning Strings"
   ]
  },
  {
   "cell_type": "code",
   "execution_count": 143,
   "metadata": {
    "collapsed": true
   },
   "outputs": [],
   "source": [
    "def sentiment_clean(s):\n",
    "    \"\"\"\n",
    "    Cleans the provided string for sentiment analysis.\n",
    "    \n",
    "    Key arguments:\n",
    "    \n",
    "        s -- The string to clean.\n",
    "    \n",
    "    Returns:\n",
    "    \n",
    "        A cleansed string.\n",
    "    \"\"\"\n",
    "    # Add a space between punc. We don't want \"great.\" and \"great!\" to show as different words, but\n",
    "    #  punc is important!\n",
    "    s = re.sub(\"\\s*\\.+\\s*\", \" . \", s)\n",
    "    s = re.sub(\"\\s*\\*+\\s*\", \"\", s)\n",
    "    # Comments tend to have patterns of !???!! or !!??!. Remove them for a simple question.\n",
    "    s = re.sub(\"\\s*(\\!\\?)+\\s*\", \" ? \", s)\n",
    "    s = re.sub(\"\\s*(\\?\\!)+\\s*\", \" ? \", s)\n",
    "    # Remove HTML tags that people might have put in.\n",
    "    s = re.sub(\"\\<.+?\\>\", \"\", s)\n",
    "    s = re.sub(\"\\s*\\,+\\s*\", \" , \", s)\n",
    "    s = re.sub(\"\\s*\\?+\\s*\", \" ? \", s)\n",
    "    s = re.sub(\"\\s*\\!+\\s*\", \" ! \", s)\n",
    "    s = re.sub(\"\\(\", \"\", s)\n",
    "    s = re.sub(\"\\)\", \"\", s)\n",
    "    s = re.sub(\"\\<\", \"\", s)\n",
    "    s = re.sub(\"\\>\", \"\", s)\n",
    "    s = re.sub(\"\\\\n\", \"\", s)\n",
    "    s = re.sub(\"\\s*\\\"\\s*\", \" \\\" \", s)\n",
    "    # Comments tend to have &3 for love. lets formally change it to \"love\"\n",
    "    s = re.sub(\"\\s*&lt;3\\s*\", \" love \", s)\n",
    "    s = re.sub(\"\\s*&\\s*\", \" and \", s)\n",
    "    # Get rid of Twitter style comments.\n",
    "    s = re.sub(\"@\", \"\", s)\n",
    "    s = re.sub(\"#\", \"\", s)\n",
    "    s = s.lower().strip()\n",
    "    \n",
    "    return s"
   ]
  },
  {
   "cell_type": "code",
   "execution_count": 144,
   "metadata": {
    "collapsed": false
   },
   "outputs": [
    {
     "name": "stdout",
     "output_type": "stream",
     "text": [
      "pass\n"
     ]
    }
   ],
   "source": [
    "def test_sentiment_clean():\n",
    "    \"\"\"Test the sentiment_clean method.\"\"\"\n",
    "    \n",
    "    assert(sentiment_clean(\"THAT WAS AWESOME!!!\") == \"that was awesome !\")\n",
    "    assert(sentiment_clean(\"@Apple has snazy products.\") == \"apple has snazy products .\")\n",
    "    assert(sentiment_clean(\"Don't show the rest. <b>bad html content!!</b>\") \n",
    "           == \"don't show the rest . bad html content !\")\n",
    "    assert(sentiment_clean(\"Do you like this statement!?!?\") == \"do you like this statement ?\")\n",
    "    assert(sentiment_clean(\"that was lame...)\") == \"that was lame .\")\n",
    "    assert(sentiment_clean(\"\\\"Quote me!!\\\"\") == \"\\\" quote me ! \\\"\")\n",
    "    \n",
    "    print(\"pass\")\n",
    "    \n",
    "test_sentiment_clean()"
   ]
  },
  {
   "cell_type": "markdown",
   "metadata": {},
   "source": [
    "### Building a Vocabulary"
   ]
  },
  {
   "cell_type": "code",
   "execution_count": 145,
   "metadata": {
    "collapsed": true
   },
   "outputs": [],
   "source": [
    "def sentiment_build_vocab(sentences, max_size=50000):\n",
    "    \"\"\"\n",
    "    Builds a vocabulary and a inverse vocabulary dictionary based on provided sentences.\n",
    "    \n",
    "    We reserve the first index for \"unknown\" words (future words that haven't been seen or padding during training)\n",
    "    \n",
    "    Key arguments:\n",
    "    \n",
    "        sentences - A list of strings to build a dictionary from.\n",
    "        max_size  - The maximum size of the dictionary.\n",
    "    \n",
    "    Returns:\n",
    "    \n",
    "        vocab     -- The vocabulary dictionary.\n",
    "        vocab_inv -- The inverse vocabulary dictionary.\n",
    "    \"\"\"\n",
    "    count = [['UNK', 0]]\n",
    "    count.extend(\n",
    "        collections.Counter(\n",
    "            itertools.chain(*[sentence for sentence in sentences])\n",
    "        ).most_common(max_size - 1)\n",
    "    )\n",
    "                 \n",
    "    vocab = dict()\n",
    "    i = 0\n",
    "    for word, _ in count:\n",
    "        vocab[word] = len(vocab)\n",
    "        i += 1\n",
    "        \n",
    "    vocab_inv = dict(zip(vocab.values(), vocab.keys()))\n",
    "    \n",
    "    return vocab, vocab_inv"
   ]
  },
  {
   "cell_type": "code",
   "execution_count": 146,
   "metadata": {
    "collapsed": false
   },
   "outputs": [
    {
     "name": "stdout",
     "output_type": "stream",
     "text": [
      "pass\n"
     ]
    }
   ],
   "source": [
    "def test_sentiment_build_vocab():\n",
    "    \"\"\"Test the sentiment_build_vocab method.\"\"\"\n",
    "    \n",
    "    sentences = [\"word1 word2 word3 word4\".split(\" \"), \"word3 word4 word5\".split(\" \"), \"word3\".split(\" \")]\n",
    "    \n",
    "    vocab, vocab_inv = sentiment_build_vocab(sentences)\n",
    "    \n",
    "    #print(vocab)\n",
    "    #print(vocab_inv)\n",
    "    #print()\n",
    "    \n",
    "    assert(vocab[\"UNK\"] == 0)\n",
    "    assert(vocab_inv[0] == \"UNK\")\n",
    "    assert(vocab[\"word3\"] == 1)\n",
    "    assert(vocab_inv[1] == \"word3\")\n",
    "    \n",
    "    # Try keeping only the top 3 words.\n",
    "    vocab, vocab_inv = sentiment_build_vocab(sentences, max_size=3)\n",
    "    \n",
    "    #print(vocab)\n",
    "    #print(vocab_inv)\n",
    "    #print()\n",
    "    \n",
    "    assert(vocab[\"UNK\"] == 0)\n",
    "    assert(vocab_inv[0] == \"UNK\")\n",
    "    try:\n",
    "        assert(vocab[\"word5\"] == 0)\n",
    "    except KeyError:\n",
    "        pass\n",
    "    \n",
    "    print(\"pass\")\n",
    "    \n",
    "test_sentiment_build_vocab()"
   ]
  },
  {
   "cell_type": "markdown",
   "metadata": {},
   "source": [
    "### Vocabulary Lookup"
   ]
  },
  {
   "cell_type": "code",
   "execution_count": 147,
   "metadata": {
    "collapsed": false
   },
   "outputs": [],
   "source": [
    "def sentiment_vocab_lookup(vocab, word):\n",
    "    \"\"\"\n",
    "    Looks up a word in the vocab dictionary. If the word does not exist,\n",
    "    it returns the \"unknown\" index.\n",
    "    \n",
    "    Key arguments:\n",
    "    \n",
    "        vocab -- The vocabulary dictionary.\n",
    "        word  -- The word to lookup.\n",
    "    \"\"\"\n",
    "    \n",
    "    return vocab[word] if word in vocab else 0"
   ]
  },
  {
   "cell_type": "code",
   "execution_count": 148,
   "metadata": {
    "collapsed": false
   },
   "outputs": [
    {
     "name": "stdout",
     "output_type": "stream",
     "text": [
      "pass\n"
     ]
    }
   ],
   "source": [
    "def test_sentiment_vocab_lookup():\n",
    "    \"\"\"Tests the sentiment_vocab_lookup method.\"\"\"\n",
    "    \n",
    "    sentences = [\"word1 word2 word3 word4\".split(\" \"), \"word3 word4 word5\".split(\" \"), \"word3\".split(\" \")]\n",
    "    \n",
    "    vocab, vocab_inv = sentiment_build_vocab(sentences, max_size=3)\n",
    "    \n",
    "    assert(sentiment_vocab_lookup(vocab, \"UNK\") == 0)\n",
    "    assert(sentiment_vocab_lookup(vocab, \"word3\") == 1)\n",
    "    \n",
    "    # Try words that should not exist since they were not in the vocab.\n",
    "    assert(sentiment_vocab_lookup(vocab, \"word5\") == 0)\n",
    "    assert(sentiment_vocab_lookup(vocab, \"blablabla\") == 0)\n",
    "    \n",
    "    print(\"pass\")\n",
    "    \n",
    "test_sentiment_vocab_lookup()"
   ]
  },
  {
   "cell_type": "markdown",
   "metadata": {},
   "source": [
    "### Labels"
   ]
  },
  {
   "cell_type": "code",
   "execution_count": 149,
   "metadata": {
    "collapsed": false
   },
   "outputs": [],
   "source": [
    "def sentiment_label(sentiment):\n",
    "    \"\"\"\n",
    "    Given a JSON sentiment object, return a label that TensorFlow can understand.\n",
    "    \n",
    "    Key arguments:\n",
    "    \n",
    "        sentiment -- A JSON sentiment object.\n",
    "    \n",
    "    Returns:\n",
    "    \n",
    "        [1, 0] if the sentiment is positive and [0, 1] if the sentiment is negative.\n",
    "    \"\"\"\n",
    "    \n",
    "    return [1, 0] if sentiment == 1 else [0, 1]"
   ]
  },
  {
   "cell_type": "code",
   "execution_count": 150,
   "metadata": {
    "collapsed": false
   },
   "outputs": [],
   "source": [
    "def sentiment_label_inv(sentiment_label):\n",
    "    \"\"\"\n",
    "    Given a sentiment_label, return a positive/negative (int) result.\n",
    "    \n",
    "    Key arguments:\n",
    "    \n",
    "        sentiment -- A JSON sentiment object.\n",
    "    \n",
    "    Returns:\n",
    "    \n",
    "        1 if the sentiment is positive and 0 if the sentiment is negative.\n",
    "    \"\"\"\n",
    "    \n",
    "    return 1 if np.all(sentiment_label == [1, 0]) else 0"
   ]
  },
  {
   "cell_type": "code",
   "execution_count": 151,
   "metadata": {
    "collapsed": false
   },
   "outputs": [
    {
     "name": "stdout",
     "output_type": "stream",
     "text": [
      "pass\n"
     ]
    }
   ],
   "source": [
    "def test_sentiment_label():\n",
    "    \"\"\"Test the sentiment_label method.\"\"\"\n",
    "    \n",
    "    assert(sentiment_label(1) == [1, 0])\n",
    "    assert(sentiment_label(0) == [0, 1])\n",
    "    assert(sentiment_label_inv([1, 0]) == 1)\n",
    "    assert(sentiment_label_inv([0, 1]) == 0)\n",
    "    \n",
    "    print(\"pass\")\n",
    "\n",
    "test_sentiment_label()"
   ]
  },
  {
   "cell_type": "markdown",
   "metadata": {},
   "source": [
    "### Vectorize Sentences"
   ]
  },
  {
   "cell_type": "code",
   "execution_count": 154,
   "metadata": {
    "collapsed": true
   },
   "outputs": [],
   "source": [
    "def sentiment_vectorize_sentence(vocab, sentence, min_size):\n",
    "    \"\"\"\n",
    "    Vectorizes a sentence.\n",
    "    \n",
    "    If a sentence is smaller that min_size, it will be padded using vocab[\"UNK\"]. Padding\n",
    "    is necessary so that all sentences are the same length during mapping to sentence embeddings.\n",
    "    \n",
    "    Key arguments:\n",
    "    \n",
    "        vocab    -- The vocabulary.\n",
    "        sentence -- The sentence to vectorize.\n",
    "        min_size -- The minimum size of the sentence. Padding using vocab[\"UNK\"] will be used to fill remaining space.\n",
    "    \"\"\"\n",
    "    vec = [sentiment_vocab_lookup(vocab, word) for word in sentence]\n",
    "    \n",
    "    num_padding = min_size - len(vec)\n",
    "    \n",
    "    return np.array(vec + [vocab[\"UNK\"]] * num_padding, dtype=np.int)"
   ]
  },
  {
   "cell_type": "code",
   "execution_count": 158,
   "metadata": {
    "collapsed": false
   },
   "outputs": [
    {
     "name": "stdout",
     "output_type": "stream",
     "text": [
      "pass\n"
     ]
    }
   ],
   "source": [
    "def test_sentiment_vectorize_sentence():\n",
    "    \"\"\"Tests the sentiment_vectorize_sentence method.\"\"\"\n",
    "    \n",
    "    sentences = [\"the cat is small .\".split(\" \"), \"the cat was large !\".split(\" \")]\n",
    "    \n",
    "    vocab, vocab_inv = sentiment_build_vocab(sentences)\n",
    "    \n",
    "    vec = sentiment_vectorize_sentence(vocab, \"the cat\".split(\" \"), 5)\n",
    "    assert(len(vec) == 5)\n",
    "    assert(vec[0] == 1)\n",
    "    assert(vec[1] == 2)\n",
    "    assert(vec[-1] == 0)\n",
    "    \n",
    "    assert([vocab_inv[idx] for idx in vec] == ['the', 'cat', 'UNK', 'UNK', 'UNK'])\n",
    "    \n",
    "    print(\"pass\")\n",
    "    \n",
    "test_sentiment_vectorize_sentence()"
   ]
  },
  {
   "cell_type": "markdown",
   "metadata": {},
   "source": [
    "### Vectorize Sentiments"
   ]
  },
  {
   "cell_type": "code",
   "execution_count": 159,
   "metadata": {
    "collapsed": true
   },
   "outputs": [],
   "source": [
    "def sentiment_vectorize_sentiments(sentiments, max_size):\n",
    "    \"\"\"\n",
    "    Vectorizes a list of sentiment (JSON) objects.\n",
    "    \n",
    "    Key arguments:\n",
    "    \n",
    "        sentiments -- \n",
    "        max_size   -- The maximum size of a sentiment sentence.\n",
    "    \"\"\"\n",
    "    \n",
    "    # Go through each sentiment, and only evaluate ones that are less than the max_size.\n",
    "    sentences = []\n",
    "    labels = []\n",
    "    for idx, sentiment in sentiments.iterrows():\n",
    "        sentence = sentiment['text'].split(\" \")\n",
    "        if (len(sentence) <= max_size):\n",
    "            sentences.append(sentence)\n",
    "            labels.append(sentiment_label(sentiment['sentiment']))\n",
    "    \n",
    "    # Build the vocabulary using the sentences.\n",
    "    vocab, vocab_inv = sentiment_build_vocab(sentences)\n",
    "    \n",
    "    # Build a list of vectors using the sentences.\n",
    "    vecs = []\n",
    "    for sentence in sentences:\n",
    "        vecs.append(sentiment_vectorize_sentence(vocab, sentence, max_size))\n",
    "    \n",
    "    return np.array(vecs, dtype=np.int), np.array(labels, dtype=np.int), vocab, vocab_inv"
   ]
  },
  {
   "cell_type": "code",
   "execution_count": 160,
   "metadata": {
    "collapsed": false
   },
   "outputs": [
    {
     "name": "stdout",
     "output_type": "stream",
     "text": [
      "pass\n"
     ]
    }
   ],
   "source": [
    "def test_sentiment_vectorize_sentiments():\n",
    "    \"\"\"Tests the sentiment_vectorize_sentiments method.\"\"\"\n",
    "    \n",
    "    sentiments = sentiment_dataframe().iloc[:10]\n",
    "    vecs, labels, vocab, vocab_inv = sentiment_vectorize_sentiments(sentiments, 100)\n",
    "    test_vec = np.array(\n",
    "        [sentiment_vocab_lookup(vocab, word) for word in sentiments.iloc[0]['text'].split(\" \")], dtype=np.int)\n",
    "    assert(np.all(test_vec == vecs[0][:len(test_vec)]))\n",
    "    \n",
    "    print(\"pass\")\n",
    "    \n",
    "test_sentiment_vectorize_sentiments()"
   ]
  },
  {
   "cell_type": "markdown",
   "metadata": {},
   "source": [
    "### Model"
   ]
  },
  {
   "cell_type": "code",
   "execution_count": 161,
   "metadata": {
    "collapsed": true
   },
   "outputs": [],
   "source": [
    "class SentimentModel:\n",
    "    \"\"\"\n",
    "    TensorFlow sentiment model using Convolutional Neural Networks.\n",
    "    \"\"\"\n",
    "    \n",
    "    def __init__(self, sentence_size, vocab_size, alpha=0.01):\n",
    "        \"\"\"\n",
    "        Initializes the most important model variables.\n",
    "        \n",
    "        Key arguments:\n",
    "        \n",
    "            sentence_size -- The maximum size of a sentence.\n",
    "            vocab_size    -- The size of the vocab.\n",
    "            alpha         -- L2 normalization parameter.\n",
    "        \"\"\"\n",
    "        self.state = {\n",
    "            'sentence_size': sentence_size,\n",
    "            'vocab_size': vocab_size,\n",
    "            'alpha': alpha,\n",
    "            \n",
    "            # The number of classes (Positive and Negative sentiment)\n",
    "            'num_classes': 2,\n",
    "            # The embedding size of each sentence.\n",
    "            'embedding_size': 300,\n",
    "            # The filter sizes to use during convolution.\n",
    "            'filter_sizes': [3, 4, 5],\n",
    "            # The number of times to use each filter.\n",
    "            'num_filters': 100,\n",
    "        }\n",
    "        \n",
    "        #\n",
    "        self.state['num_features'] = self.state['num_filters'] * len(self.state['filter_sizes'])\n",
    "    \n",
    "    def init_graph(self, graph):\n",
    "        \"\"\"\n",
    "        Initializes the TensorFlow graph.\n",
    "        \n",
    "        Key arguments:\n",
    "        \n",
    "            graph -- The TensorFlow graph.\n",
    "        \"\"\"\n",
    "        state = self.state\n",
    "        \n",
    "        with graph.as_default():\n",
    "            # Set the feature and output label placeholders.\n",
    "            self.x = tf.placeholder(tf.int32, [None, state['sentence_size']])\n",
    "            self.y = tf.placeholder(tf.float32, [None, state['num_classes']])\n",
    "            self.keep_prob = tf.placeholder(tf.float32)\n",
    "            \n",
    "            # Map each sentence vector (size of the vocabulary) to an embedding vector.\n",
    "            embedded_weights = tf.Variable(tf.random_uniform([state['vocab_size'], state['embedding_size']], -1.0, 1.0))\n",
    "            embedded_chars = tf.nn.embedding_lookup(embedded_weights, self.x)\n",
    "            embedded_chars_expanded = tf.expand_dims(embedded_chars, -1)\n",
    "\n",
    "            # Each filter has a different convolution. Iterate through all and combine\n",
    "            #  them all at the end.\n",
    "            pools = []\n",
    "            for i, filter_size in enumerate(state['filter_sizes']):\n",
    "                filter_shape = [filter_size, state['embedding_size'], 1, state['num_filters']]\n",
    "\n",
    "                weights = tf.Variable(tf.truncated_normal(filter_shape, stddev=0.1))\n",
    "                biases = tf.Variable(tf.constant(0.1, shape=[state['num_filters']]))\n",
    "\n",
    "                conv = tf.nn.conv2d(embedded_chars_expanded, weights, strides=[1, 1, 1, 1], padding=\"VALID\")\n",
    "                hidden = tf.nn.relu(tf.nn.bias_add(conv, biases))\n",
    "\n",
    "                pool = tf.nn.max_pool(hidden, ksize=[1, state['sentence_size'] - filter_size + 1, 1, 1],\n",
    "                                        strides=[1, 1, 1, 1], padding='VALID')\n",
    "                pools.append(pool)\n",
    "\n",
    "            # Merge the pooled layers.\n",
    "            hidden_pool = tf.concat(3, pools)\n",
    "            hidden_pool_flat = tf.reshape(hidden_pool, [-1, state['num_features']])\n",
    "\n",
    "            # Dropout\n",
    "            hidden_dropout = tf.nn.dropout(hidden_pool_flat, self.keep_prob)\n",
    "\n",
    "            # Map eac\n",
    "            weights = tf.Variable(tf.truncated_normal([state['num_features'], state['num_classes']], stddev=0.1))\n",
    "            biases = tf.Variable(tf.constant(0.1, shape=[state['num_classes']]))\n",
    "            \n",
    "            # Determine scores and then find the max score to determine the best prediction.\n",
    "            scores = tf.nn.xw_plus_b(hidden_dropout, weights, biases)\n",
    "            self.predictions = tf.argmax(scores, 1,)\n",
    "\n",
    "            # Calculate loss.\n",
    "            losses = tf.nn.softmax_cross_entropy_with_logits(scores, self.y)\n",
    "            self.loss = tf.reduce_mean(losses) + state['alpha'] * tf.nn.l2_loss(weights)\n",
    "\n",
    "            # Calculate accuracy.\n",
    "            self.accuracy = tf.reduce_mean(tf.cast(tf.equal(self.predictions, tf.argmax(self.y, 1)), \"float\"))\n",
    "            \n",
    "            # Run the optimizer.\n",
    "            optimizer = tf.train.AdamOptimizer(1e-4)\n",
    "            grads_and_vars = optimizer.compute_gradients(self.loss)\n",
    "            self.optimize = optimizer.apply_gradients(grads_and_vars)"
   ]
  },
  {
   "cell_type": "markdown",
   "metadata": {},
   "source": [
    "### Training"
   ]
  },
  {
   "cell_type": "code",
   "execution_count": 163,
   "metadata": {
    "collapsed": true
   },
   "outputs": [],
   "source": [
    "def sentiment_train(x, y, vocab, filepath, batch_size=250, epochs=1000):\n",
    "    \"\"\"\n",
    "    Trains a SentimentModel with the provided training set.\n",
    "    \n",
    "    Key arguments:\n",
    "    \n",
    "        x          -- The feature set (vector of sentences).\n",
    "        y          -- The labels.\n",
    "        vocab      -- The vocabulary dictionary.\n",
    "        filepath   -- The file path to save the training model.\n",
    "        batch_size -- The size of each iterative training batch.\n",
    "        epochs     -- The number of epochs (random assortment of training vectors)\n",
    "    \"\"\"\n",
    "    \n",
    "    graph = tf.Graph()\n",
    "    with graph.as_default():\n",
    "        with tf.Session(graph=graph) as session:\n",
    "\n",
    "            # Initialize a sentiment model.\n",
    "            model = SentimentModel(len(x[0]), len(vocab))\n",
    "            model.init_graph(graph)\n",
    "            \n",
    "            # Continue with a saved model if one exists.\n",
    "            session.run(tf.initialize_all_variables())\n",
    "            saver = tf.train.Saver(tf.all_variables())\n",
    "            if os.path.isfile(filepath):\n",
    "                print(\"Loading saved session fom {0}.\".format(filepath))\n",
    "                saver.restore(session, filepath)\n",
    "\n",
    "            print(\"Initialized.\")\n",
    "            \n",
    "            x_size = len(x)\n",
    "            batches = int(x_size / batch_size) + 1\n",
    "            \n",
    "            # For each epoch, do a random assortment of the training sentences.\n",
    "            for epoch in range(epochs):\n",
    "                idx = np.random.permutation(np.arange(x_size))\n",
    "                x_shuffled = x[idx]\n",
    "                y_shuffled = y[idx]\n",
    "                for batch in range(batches):\n",
    "                    start_idx = batch * batch_size\n",
    "                    end_idx = min((batch + 1) * batch_size, x_size)\n",
    "                    \n",
    "                    x_batch = x_shuffled[start_idx:end_idx]\n",
    "                    y_batch = y_shuffled[start_idx:end_idx]\n",
    "                    \n",
    "                    # Feed our model with a dropout rate of 50%.\n",
    "                    feed = {model.x: x_batch, model.y: y_batch, model.keep_prob: 0.5}\n",
    "                    _, loss, accuracy = session.run([model.optimize, model.loss, model.accuracy], feed_dict=feed)\n",
    "                    \n",
    "                    # Print status and save model.\n",
    "                    if (batch % 10 == 0):\n",
    "                        print(\"Epoch {0} Batch {1} (L: {2}, A: {3})...\".format(epoch, batch, loss, accuracy))\n",
    "                        saver.save(session, filepath)"
   ]
  },
  {
   "cell_type": "markdown",
   "metadata": {},
   "source": [
    "### Prediction"
   ]
  },
  {
   "cell_type": "code",
   "execution_count": 164,
   "metadata": {
    "collapsed": true
   },
   "outputs": [],
   "source": [
    "def sentiment_predict(x, vocab, filepath):\n",
    "    \"\"\"\n",
    "    Predicts the provided feature (sentence) vectors using the model at filepath.\n",
    "    \"\"\"\n",
    "    graph = tf.Graph()\n",
    "    with graph.as_default():\n",
    "        with tf.Session(graph=graph) as session:\n",
    "\n",
    "            model = SentimentModel(len(x[0]), len(vocab), 0.0)\n",
    "            model.init_graph(graph)\n",
    "\n",
    "            session.run(tf.initialize_all_variables())\n",
    "            saver = tf.train.Saver(tf.all_variables())\n",
    "            saver.restore(session, filepath)\n",
    "            \n",
    "            # Use a fake label set.\n",
    "            y = np.array([[0, 1]] * len(x))\n",
    "            \n",
    "            # Feed the model, but make sure to keep all of the values!\n",
    "            feed = {model.x: x, model.y: y, model.keep_prob: 1.0}\n",
    "            predictions = session.run([model.predictions], feed_dict=feed)\n",
    "                \n",
    "            return np.array(predictions[0] == 0, dtype=np.int)"
   ]
  },
  {
   "cell_type": "markdown",
   "metadata": {},
   "source": [
    "### Execution"
   ]
  },
  {
   "cell_type": "code",
   "execution_count": 165,
   "metadata": {
    "collapsed": false
   },
   "outputs": [],
   "source": [
    "sentiment_vecs, sentiment_labels, sentiment_vocab, sentiment_vocab_inv = \\\n",
    "    sentiment_vectorize_sentiments(sentiment_dataframe(), 200)"
   ]
  },
  {
   "cell_type": "markdown",
   "metadata": {},
   "source": [
    "#### Split into Train/Test"
   ]
  },
  {
   "cell_type": "code",
   "execution_count": 166,
   "metadata": {
    "collapsed": true
   },
   "outputs": [],
   "source": [
    "sentiment_x_train, sentiment_x_test, sentiment_y_train, sentiment_y_test = \\\n",
    "    train_test_split(sentiment_vecs, sentiment_labels, test_size=0.10, random_state=42)"
   ]
  },
  {
   "cell_type": "code",
   "execution_count": 167,
   "metadata": {
    "collapsed": false
   },
   "outputs": [
    {
     "name": "stdout",
     "output_type": "stream",
     "text": [
      "Training Size:\t47017\n",
      "Test Size:\t5225\n"
     ]
    }
   ],
   "source": [
    "print(\"Training Size:\\t{0}\".format(len(sentiment_y_train)))\n",
    "print(\"Test Size:\\t{0}\".format(len(sentiment_y_test)))"
   ]
  },
  {
   "cell_type": "markdown",
   "metadata": {},
   "source": [
    "#### Verify the Positive/Negative Distribution"
   ]
  },
  {
   "cell_type": "code",
   "execution_count": 168,
   "metadata": {
    "collapsed": false
   },
   "outputs": [
    {
     "name": "stdout",
     "output_type": "stream",
     "text": [
      "Positive Training Examples:\t23504\n",
      "Negative Training Examples:\t23513\n",
      "Positive Test Examples:\t\t2598\n",
      "Negative Test Examples:\t\t2627\n"
     ]
    }
   ],
   "source": [
    "print(\"Positive Training Examples:\\t{0}\".format(\n",
    "        np.sum([np.array_equal(y, np.array([1, 0])) for y in sentiment_y_train])))\n",
    "print(\"Negative Training Examples:\\t{0}\".format(\n",
    "        np.sum([np.array_equal(y, np.array([0, 1])) for y in sentiment_y_train])))\n",
    "print(\"Positive Test Examples:\\t\\t{0}\".format(\n",
    "        np.sum([np.array_equal(y, np.array([1, 0])) for y in sentiment_y_test])))\n",
    "print(\"Negative Test Examples:\\t\\t{0}\".format(\n",
    "        np.sum([np.array_equal(y, np.array([0, 1])) for y in sentiment_y_test])))"
   ]
  },
  {
   "cell_type": "markdown",
   "metadata": {},
   "source": [
    "#### Train the Model"
   ]
  },
  {
   "cell_type": "code",
   "execution_count": null,
   "metadata": {
    "collapsed": false
   },
   "outputs": [],
   "source": [
    "sentiment_train(sentiment_x_train, sentiment_y_train, sentiment_vocab, META['model']['sentiment'])"
   ]
  },
  {
   "cell_type": "markdown",
   "metadata": {},
   "source": [
    "**Train Summary**\n",
    "\n",
    "After many hours of training, the model was able to predict random positive/negative training samples with ~85% accuracy.\n",
    "\n",
    "    ...\n",
    "    Epoch 1 Batch 70 (L: 0.3615756034851074, A: 0.8519999980926514)...\n",
    "    Epoch 1 Batch 80 (L: 0.38188397884368896, A: 0.8519999980926514)...\n",
    "    Epoch 1 Batch 90 (L: 0.36195218563079834, A: 0.8640000224113464)...\n",
    "    ...\n",
    "\n",
    "*(Note: The training model accuracy is not a significant estimate because it is biased. Evaluation should always occur on data the model has never seen before!)*"
   ]
  },
  {
   "cell_type": "markdown",
   "metadata": {},
   "source": [
    "#### Test the Model"
   ]
  },
  {
   "cell_type": "code",
   "execution_count": 174,
   "metadata": {
    "collapsed": false
   },
   "outputs": [
    {
     "name": "stdout",
     "output_type": "stream",
     "text": [
      "Accuracy\n",
      "0.74\n",
      "\n",
      "Precision\n",
      "0.775510204082\n",
      "\n",
      "Recall\n",
      "0.716981132075\n",
      "\n",
      "Negative Detection Accuracy\n",
      "0.7058823529411765\n",
      "\n",
      "Confusion Matrix\n",
      "[[36 11]\n",
      " [15 38]]\n",
      "\n"
     ]
    }
   ],
   "source": [
    "def sentiment_test_model():\n",
    "    \"\"\"\n",
    "    Analysis of the sentiment model using the test set.\n",
    "    \"\"\"\n",
    "    \n",
    "    y = np.array([sentiment_label_inv(yi) for yi in sentiment_y_test[:100]], dtype=np.int)\n",
    "    predictions = sentiment_predict(sentiment_x_test[:100], sentiment_vocab, META['model']['sentiment'])\n",
    "    \n",
    "    print(\"Accuracy\")\n",
    "    print(accuracy_score(y, predictions))\n",
    "    print()\n",
    "    \n",
    "    print(\"Precision\")\n",
    "    print(precision_score(y, predictions))\n",
    "    print()\n",
    "    \n",
    "    print(\"Recall\")\n",
    "    print(recall_score(y, predictions))\n",
    "    print()\n",
    "    \n",
    "    tp = len(np.where(y[np.where(y == predictions)] == 1)[0])\n",
    "    tn = len(np.where(y[np.where(y == predictions)] == 0)[0])\n",
    "    fp = len(np.where(predictions[np.where(y != predictions)] == 1)[0])\n",
    "    fn = len(np.where(predictions[np.where(y != predictions)] == 0)[0])\n",
    "    \n",
    "    print(\"Negative Detection Accuracy\")\n",
    "    print(tn / (tn + fn))\n",
    "    print()\n",
    "    \n",
    "    print(\"Confusion Matrix\")\n",
    "    print(confusion_matrix(y, predictions))\n",
    "    print()\n",
    "    \n",
    "sentiment_test_model()"
   ]
  },
  {
   "cell_type": "markdown",
   "metadata": {},
   "source": [
    "**Test Summary**\n",
    "\n",
    "Accuracy for the test set was ~74% - about an 11% difference from the training accuracy. However, in this scenario, the more important statistic is the rate at which the model could accurately determine negative sentiments. The negative detection accuracy for the model is ~71% which is by no means production ready, but is significantly better than flipping a coin (50%). It was also high enough to continue forward and evaluate using comments from Disney's Blog."
   ]
  },
  {
   "cell_type": "markdown",
   "metadata": {},
   "source": [
    "#### Test Blog Comments\n",
    "\n",
    "To test blog comments, I selected 10 positive and 10 negative comments. The model was then applied to predict the sentiment of each sentence.\n",
    "\n",
    "*(Note: I \"randomly selected\" comments - but I'm human and am therefore biased. I looked for comments that were intuitively positive or negative.)*"
   ]
  },
  {
   "cell_type": "code",
   "execution_count": 170,
   "metadata": {
    "collapsed": false
   },
   "outputs": [
    {
     "name": "stdout",
     "output_type": "stream",
     "text": [
      "Positives\n",
      "(1)     I’m not a wine drinker, but I always love this for the food!!!\n",
      "(1)     This is fantastic!!! It also made me incredibly hungry reading it. I must get food now…    But seriously, Love the fact we got some recipes on here! The Food and Wine festival is my all time favorite celebration done at a Disney Theme Park. How can you not love walking around countries trying out different foods that you otherwise wouldn’t have even given a try?!    Forget getting the food, I’m driving to Epcot. See you in a few! ;]\n",
      "(1)     Thanks for the recipe for Aunt Peggy’s Pickled Cucumber, Tomato, and Onion Salad!   I will definitely be trying this – it’s always great to find new vegan recipes.  This will work out great to make ahead of time for my dinner party this weekend!  Thanks a bunch!\n",
      "(1)     I love,love,love Disney!!!!! But my favorite event is Food and Wine!!! We enjoy the events and just walking around and eating all the different foods and tasting all the different wines. It makes for a great day or a great weekend.\n",
      "(1)     Looks great! :p\n",
      "(0)     Looks terrific. I would love to see something like this implemented with Indiana Jones. Imagine being able to talk to Indy!\n",
      "(1)     This technology is incredible. I can’t wait to see future applications for this. Example: a fully interactive Stitch!!!\n",
      "(1)     I can’t wait to see how the Imagineers implement this in the parks!  Otto is so cool.\n",
      "(1)     excellent!\n",
      "(0)     Things like this exemplify the extra care and attention to detail that Disney employs to “surprise and delight” their guests. Does anybody care that the custodial staff is being paid to entertain rather than clean? No. In fact it seems that people on both the cast and guest sides love it.\n",
      "\n",
      "Negatives\n",
      "(1)     It bothers me sooo much when people refer to a Disney Park as just “Disney” (i.e Im going to Disney today.). It doesn’t make any sense. Disney is the name of a person not a destination. When people are planning on coming over to my house they don’t say, “I’m going to Wesley today”. That would be stupid and non-sensical. And now they (The Walt Disney Co.) are referring to the Parks that way in these commercials. Ugh…\n",
      "(0)     Is there anyone else out there who doesn’t like this promotion idea?\n",
      "(0)     I didn’t like it at all. The projections were too bright, which made it too bright inside the dome and the screens were CLEARLY visible. Not scary at all. The outside show is cool, but the ride itself wasn’t any good. And my picture at the end showed it.    Either make it much darker and creepier, or don’t do it at all, please.\n",
      "(0)     Mickey’s Not So Scary Halloween Party – the fireworks and the parade were wonderful.  Trick or Treating is fun and easy.  We were disappointed at the candy handed out.  When you pay $100 plus to get in on top of what you paid for the day, getting Kiddie Mix candy (tootsie rolls, suckers and smarties) is not what we expected.  We had a great time, do not get me wrong.  Just wish the candy had been of better quality.\n",
      "(0)     I’m really disappointed.  Unless you plan to announce additional races, you have effectively eliminated races for those who want more of a challenge then a 5k but aren’t quite up to the challenge of a half marathon.  January has the half and full marathon, the Princess half marathon replaced the Minnie 15k, Race for the Taste and Tower of Terror were the remaining races that were shorter than half marathon and now you have removed those.  The relay option is very interesting – but I really enjoy starting and finishing a race myself.  Our family made many trips to Disney each year just for the races, but it’s not worth it to come down several times a year for 5k’s.  With the decision to move Expedition Everest to June (it’s much too hot for all that!) I don’t think we will be participating in any of the Disney races!  Very disappointing!  Please reconsider!\n",
      "(0)     Donald and Daisy are out all the time. They never should have been on the list.\n",
      "(0)     Come on Disney!  Fix the live stream!  I really want to watch this.\n",
      "(1)     I am trying to watch it… but it keeps telling me server not found… why?\n",
      "(0)     I don’t feel like this fits in with DAK, all the other lands there are rooted in real locations or real things that existed at one time (Dinoland).  This is fantasy – they should have put it at Hollywood Studios for the film connection or somewhere else.  It doesn’t feel organic to me.\n",
      "(0)     This really sucks!  How come nobody’s helping me out?\n",
      "\n"
     ]
    }
   ],
   "source": [
    "def sentiment_test_comments(title, filepath, max_size):\n",
    "    \"\"\"\n",
    "    Reads in pre-determined comments and predicts their sentiments.\n",
    "    \n",
    "    Key arguments:\n",
    "    \n",
    "        title    -- The title to print.\n",
    "        filepath -- The file location of the comments.\n",
    "        max_size -- The max sentence size.\n",
    "    \"\"\"\n",
    "    \n",
    "    with open(filepath) as file:    \n",
    "        comments = json.load(file)\n",
    "    \n",
    "    # Conver the comments to vocab vectors.\n",
    "    vecs = []\n",
    "    for comment in comments:\n",
    "        comment = sentiment_clean(comment).split(\" \")\n",
    "        if (len(comment) <= max_size):\n",
    "            vecs.append(sentiment_vectorize_sentence(sentiment_vocab, comment, max_size))\n",
    "    \n",
    "    vecs = np.array(vecs, dtype=np.int)\n",
    "    predictions = sentiment_predict(vecs, sentiment_vocab, META['model']['sentiment'])\n",
    "    \n",
    "    print(title)\n",
    "    for i in range(len(predictions)):\n",
    "        print(\"({0}) {1}\".format(predictions[i], comments[i]))\n",
    "    print()\n",
    "    \n",
    "sentiment_test_comments(\"Positives\", \"data/sentiment/comments-positive.json\", 200)\n",
    "sentiment_test_comments(\"Negatives\", \"data/sentiment/comments-negative.json\", 200)"
   ]
  },
  {
   "cell_type": "markdown",
   "metadata": {},
   "source": [
    "**Test Blog Comments Summary**\n",
    "\n",
    "The model was able to predict 8/10 positive sentences and 8/10 negative sentences correctly. I was troubled by the first negative comment which the model predicted as positive (\"It bothers me sooo much when people refer...\"). The comment is clearly negative, which leads me to believe that the training set is missing vocabulary (i.e. the model never learned how to classify \"it bothers me\") or is not particularly stable at predicting longer comments. \n",
    "\n",
    "The second negative comment contains no obvious negative words and therefore would be very difficult for the model to predict accurately. This raises a good point that the model will have a difficult time predicting \"weak negative\" or \"neutral\" comments."
   ]
  },
  {
   "cell_type": "markdown",
   "metadata": {},
   "source": [
    "### Detect Negative Sentiments\n",
    "\n",
    "Now for the real test... Is it possible to scan through the blog and determine negative comments?"
   ]
  },
  {
   "cell_type": "code",
   "execution_count": 176,
   "metadata": {
    "collapsed": false
   },
   "outputs": [
    {
     "name": "stdout",
     "output_type": "stream",
     "text": [
      "    Do persons with a handicapped placard in their car get a discount on Valet parking?    Where is the valet parking located? How far is it from an ECV rental place at Downtown Disney?\n",
      "\n",
      "    I cant figure out how to order the customizable maps. can someone help me get started?\n",
      "\n",
      "    I am also having problems with the customized maps.  Does anyone know how to do it?  I click on the link and it brings me to a map but then it doesn’t have anything else to order it.\n",
      "\n",
      "    There used to be a link on the Disney website for the custom maps. We are going in April and I had added a few things on there. However, I cannot access it any more either. Maybe they are working on the page or it isn’t going to be available any longer? Not sure!\n",
      "\n",
      "    Any case for iPhone 6 Plus?\n",
      "\n",
      "    We were so looking forward to the Frozen show last week. We went on Tuesday December 23rd. We arrived a good 30 minutes before it started, around 5:45. We got a spot not too far from stage. The show started but we never saw or heard any characters come out. Only saw the images on the castle then the lights lit up all over castle. My daughter really wanted to see Anna and Elsa. Do they not have characters perform everyday? Everyone around us was really confused too, asking “is that it?” I think a lot of people thought we had to wait longer but then they turned all the lights in the square back on so we knew it was over. \n",
      "\n",
      "    I think I saw a commercial that said this show has been extended through the end of January. I am thinking about making the trip this weekend, 1/24/2015 with my daughters. Are we too late?\n",
      "\n",
      "    I will be arriving on Jan 10, 2015. Are they still in stock? The online stock is out, would love to take a look at these.\n",
      "\n",
      "    Hello,    I will be at WDW from april 6 to april 14 can you tell me if Disney Pandora will be available ?  And where we buy it.  I hope so because I’m from Canada and I don’t know when I will return to WDW.    Thank your answer\n",
      "\n",
      "    I accidentally uploaded my own photos twice to my account. Is there any way to delete them?\n",
      "\n",
      "    When are Hiro and Baymax leaving Disneyland?\n",
      "\n",
      "    I’m really hoping that once they open they will be included on the Dining Plan \n",
      "\n",
      "    Is there an opening date?  Can hardly wait.\n",
      "\n",
      "    When will it be possible,e to make reservations, our family is coming to wdw last week of May/fist week of June?\n",
      "\n",
      "    We can hardly wait…..We are coming the last week of August first Week of September….any news on when they will take reservations and if they will be accepting Dining Plan????\n",
      "\n",
      "    Will it be open before July because we are going in the first 2 weeks of July and would love to try the new places to eat. Any idea of opening dates?\n",
      "\n",
      "    Any word on how long Oaken’s is staying?\n",
      "\n",
      "    Will they be able to accommodate a vegan meal?\n",
      "\n",
      "    Good afternoon, the cafe in the morning the princesses are present? Or and only at dinner ??\n",
      "\n",
      "    Hi,\n",
      "\n",
      "    Can we still meet and greet Baymax here, or did that end March 1st?\n",
      "\n",
      "    I have 4 bands from a trip in August and none seem to do anything on the infinity playset?\n",
      "\n",
      "    Just wondering how long Hiro and Baymax are going to be at WDW – couldn’t comment on the other post, so thought I’d try here.  Thanks!\n",
      "\n",
      "    Will Hiro and Baymax be at Disneyland Starcade in mid May??\n",
      "\n",
      "    It breaks my heart that they’re removing these characters from the park. Will there be any other place that we could meet them or will they only be showcased for Holidays? I will be devastated if I don’t get to meet Baymax this summer.\n",
      "\n",
      "    Super bummed about no inaugural on the half medal. \n",
      "\n",
      "    this might be silly, but I think bill nye and Disney were meant for each other\n",
      "\n",
      "    There are so many places to eat at Walt Disney World that my family has a hard time deciding whether to go to an old favorite or try something new! We are Florida residents and visit several times each year.    It would be really great if you would add more allergy-free options looking forward through 2015. Due to allergies and food sensitivities, my children can’t eat most of the goodies that many park guests can pick up everywhere. If we want a treat, we have to get one at a table-service restaurant. It would be so nice to be able to go into a gift shop or bakery and pick up a pre-packaged allergy-free item. I know there are many other guests who would appreciate that too.\n",
      "\n",
      "    I’m coming this Sunday and notice that Hungry Bear is closed for refurbishment. Is there an alternative restaurant offering the Dessert package?\n",
      "\n",
      "    Hey – that’s the room that they filmed The Middle Disneyworld episode in. Just awesome. Probably never be able to afford to stay there, but it’s nice just to dream.\n",
      "\n",
      "    @Anthony – The dated 2015 figures were released in December. Please see: \n",
      "\n",
      "    This video brings tears to my eyes every time I watch it. Our grandson is so much like this little boy. And the ad is successful, because we’ll be taking him with us to WDW this December!\n",
      "\n",
      "    To print click on the link above the numbers that says:\n",
      "\n",
      "    I had trouble printing it of too. I had to print 1 page at a time and that’s how I got it to print.\n",
      "\n",
      "    I just got reservations for April\n",
      "\n",
      "    I heard that the ice cream novelties that were part of this offering in 2014 are no longer part of the offerings in 2015.  Can someone confirm this for me as that would be a deal breaker for my kids \n",
      "\n",
      "done\n"
     ]
    }
   ],
   "source": [
    "def sentiment_detect_negative_comments(comments, max_size, year, num_comments):\n",
    "    \"\"\"\n",
    "    Scans through the blog and looks for negative comments\n",
    "    \n",
    "    Key arguments:\n",
    "    \n",
    "        comments     -- The blog comments.\n",
    "        max_size     -- The max sentence size.\n",
    "        year         -- The year to search.\n",
    "        num_comments -- The number of comments to look at.\n",
    "    \"\"\"\n",
    "    comments['datetime'] = pd.to_datetime(comments['timestamp'], unit='s')\n",
    "    comments['year'] = comments['datetime'].map(lambda x: int(x.strftime('%Y')))\n",
    "    comments = comments[comments['year'] == year].copy().iloc[:num_comments]\n",
    "    \n",
    "    for idx, comment in comments.iterrows():\n",
    "        body = sentiment_clean(comment['body']).split(\" \")\n",
    "        if (len(body) <= max_size):\n",
    "            vecs = np.array([sentiment_vectorize_sentence(sentiment_vocab, body, max_size)], dtype=np.int)\n",
    "            prediction = sentiment_predict(vecs, sentiment_vocab, META['model']['sentiment'])[0]\n",
    "            if (prediction == 0):\n",
    "                print(comment['body'])\n",
    "                print()\n",
    "    print(\"done\")\n",
    "\n",
    "sentiment_detect_negative_comments(comments.copy(), 200, 2015, 100) "
   ]
  },
  {
   "cell_type": "markdown",
   "metadata": {},
   "source": [
    "### Summary\n",
    "\n",
    "After hours of constructing and training a Neural Network, the model was able to detect quite a few negative comments. Some subjects that caught my eye were:\n",
    "\n",
    "- Confusion on how to use Disney Maps.\n",
    "- Disappointment that characters do not appear at every show.\n",
    "- Disappointment over Disney no longer offering inaugural medals for the half marathon.\n",
    "\n",
    "One interesting outcome was the number of questions the model detected. I was surprised to see that the majority of the negative predictions were questions. Logically, questions are about publicly raising concerns, and concerns are typically negative, so the evaluation makes sense.\n",
    "\n",
    "Overall, I thought the results were satisfactory. There is a lot of room for improvement. I only spent a few hours fine tuning the hyper-parameters and optimizing the process. Some potential improvements are:\n",
    "\n",
    "- Obtaining a much better training set.\n",
    "- Removal of stopwords.\n",
    "- Stemming.\n",
    "- Exploring different values for the hyper-parameters.\n",
    "- Removal of questions to determine if the model can detect rants.\n",
    "\n",
    "How could this information be beneficial? Disney is a brand. And like all brands, success is achieved by improving and maintaining quality. Being able to detect negative sentiment is a crucial step for maintaining a quality brand, such as Disney. With some improvements, this model could be successfully applied to a variety of sources (Twitter Feeds, Facebook comments, etc.) as an early problem detection system. For example, if enough people are complaining about the inaugural medals for the half marathons, Disney could consider reinstating the awards."
   ]
  },
  {
   "cell_type": "markdown",
   "metadata": {},
   "source": [
    "## Conclusion and Future Work\n",
    "\n",
    "I'm always pleased with the outcome of small data projects. Not only do I learn random tidbits about the subject (like the story of how Disney went above and beyond for the daughter of a random commenter), but I get the opportunity to improve my skillset (this was the first time I built a Neural Network for Natural Language Processing). Some things that were accomplished in the project include:\n",
    "\n",
    "- Exploration of high level Disney Blog data (distributions)\n",
    "- Discovery of popular Disney topics and popular times for blog readers\n",
    "- Revelation of information that might be worth pursuing from a business perpective (Cruise Line popularity and Day of the Week advantage).\n",
    "- Developed a prototype Negative Sentiment Detection model.\n",
    "\n",
    "This work only scratches the surface. As with most projects, there is always room for improvement and deeper exploration. Things that would be intriguing to work on are:\n",
    "\n",
    "- Porting all code to a distributed environment\n",
    " - Port all code to run on a Mesos Cluster and use Spark for part of the analysis\n",
    "- Improving Negative Sentiment Detection model\n",
    " - Acquire additional sentiment training data from the web.\n",
    " - Port the TensorFlow code to use GPUs.\n",
    " - Train for longer durations\n",
    " - Experiment with hyper-parameters\n",
    "- Topic prediction using LDA\n",
    "\n",
    "All-in-all, this was a tremendously gratifying project that I hope to continue to work on!"
   ]
  },
  {
   "cell_type": "markdown",
   "metadata": {},
   "source": [
    "## Appendix\n",
    "Some accessory methods used during the process."
   ]
  },
  {
   "cell_type": "code",
   "execution_count": 4,
   "metadata": {
    "collapsed": false
   },
   "outputs": [],
   "source": [
    "def enumerate_post_filepaths():\n",
    "    \"\"\"\n",
    "    Generator that returns the filepath for each blog post (.json)\n",
    "\n",
    "    Returns:\n",
    "    \n",
    "       The filepath for each blog post.\n",
    "    \"\"\"\n",
    "    path = META['data']['blog']['path']\n",
    "    for year_dir in os.listdir(path):\n",
    "        # Make sure we are actually looking at a year folder. .* files/dirs might exist.\n",
    "        if (year_dir.isdigit()):\n",
    "            for month_dir in os.listdir(os.path.join(path, year_dir)):\n",
    "                  if (month_dir.isdigit()):\n",
    "                        for filename in os.listdir(os.path.join(path, year_dir, month_dir)):\n",
    "                            yield os.path.join(path, year_dir, month_dir, filename)"
   ]
  },
  {
   "cell_type": "code",
   "execution_count": 5,
   "metadata": {
    "collapsed": false,
    "scrolled": true
   },
   "outputs": [
    {
     "name": "stdout",
     "output_type": "stream",
     "text": [
      "pass\n"
     ]
    }
   ],
   "source": [
    "def test_enumerate_post_filepaths():\n",
    "    \"\"\"Tests the enumerate_post_filepaths method.\"\"\"\n",
    "    \n",
    "    for filepath in enumerate_post_filepaths():\n",
    "        assert(filepath == \"data/blog/2009/09/chefs-offer-taste-of-epcot-international-food-wine-festival.json\")\n",
    "        break\n",
    "    \n",
    "    print(\"pass\")\n",
    "\n",
    "test_enumerate_post_filepaths()"
   ]
  },
  {
   "cell_type": "code",
   "execution_count": 6,
   "metadata": {
    "collapsed": false
   },
   "outputs": [],
   "source": [
    "def enumerate_posts():\n",
    "    \"\"\"\n",
    "    Generator that returns the filepath and contents for each blog post (.json).\n",
    "\n",
    "    Returns:\n",
    "    \n",
    "        filepath -- The filepath to the blog post json file.\n",
    "        contents -- The json object.\n",
    "    \"\"\"\n",
    "    for filepath in enumerate_post_filepaths():\n",
    "        contents = None\n",
    "        with open(filepath, 'r') as file:\n",
    "            contents = json.load(file)\n",
    "        yield filepath, contents"
   ]
  },
  {
   "cell_type": "code",
   "execution_count": 7,
   "metadata": {
    "collapsed": false,
    "scrolled": true
   },
   "outputs": [
    {
     "name": "stdout",
     "output_type": "stream",
     "text": [
      "pass\n"
     ]
    }
   ],
   "source": [
    "def test_enumerate_posts():\n",
    "    \"\"\"Tests the enumerate_posts method.\"\"\"\n",
    "    \n",
    "    for (filepath, data) in enumerate_posts():\n",
    "        assert(filepath == \"data/blog/2009/09/chefs-offer-taste-of-epcot-international-food-wine-festival.json\")\n",
    "        assert(data['title'] == \"Chefs Offer Taste of Epcot International Food & Wine Festival\")\n",
    "        break\n",
    "    \n",
    "    print(\"pass\")\n",
    "\n",
    "test_enumerate_posts()"
   ]
  },
  {
   "cell_type": "code",
   "execution_count": 8,
   "metadata": {
    "collapsed": false
   },
   "outputs": [],
   "source": [
    "def post_dataframes():\n",
    "    \"\"\"\n",
    "    Returns the blog post data as pandas DataFrames.\n",
    "\n",
    "    Returns:\n",
    "    \n",
    "        posts    -- A DataFrame containing generic post data index by URL.\n",
    "        tags     -- A DataFrame containing all the tags indexed by URL.\n",
    "        filings  -- A DataFrame containing all the filings indexed by URL.\n",
    "        comments -- A DataFrame containing all the comments indexed by URL.\n",
    "    \"\"\"\n",
    "    \n",
    "    # Define cache filenames.\n",
    "    posts_filename = META['data']['cache'] + \"/posts.pickle\"\n",
    "    tags_filename = META['data']['cache'] + \"/tags.pickle\"\n",
    "    filings_filename = META['data']['cache'] + \"/filings.pickle\"\n",
    "    comments_filename = META['data']['cache'] + \"/comments.pickle\"\n",
    "    \n",
    "    # Check if we have a cached pickle file already.\n",
    "    if (os.path.isfile(posts_filename)):\n",
    "        posts = pd.read_pickle(posts_filename)\n",
    "        tags = pd.read_pickle(tags_filename)\n",
    "        filings = pd.read_pickle(filings_filename)\n",
    "        comments = pd.read_pickle(comments_filename)\n",
    "        \n",
    "        return posts, tags, filings, comments\n",
    "    \n",
    "    posts = pd.DataFrame()\n",
    "    tags = pd.DataFrame()\n",
    "    filings = pd.DataFrame()\n",
    "    comments = pd.DataFrame()\n",
    "    \n",
    "    for i, (filepath, data) in enumerate(enumerate_posts()):\n",
    "        post_series = {\n",
    "            'url': data['url'],\n",
    "            'author_name': data['author']['name'],\n",
    "            'author_role': data['author']['role'],\n",
    "            'author_division': data['author']['division'],\n",
    "            'title': data['title'],\n",
    "            'timestamp': data['timestamp'],\n",
    "            'body': data['body'],    \n",
    "            'facebook_likes': data['facebook']['likes'],\n",
    "            'facebook_url': data['facebook']['url'],\n",
    "        }\n",
    "        posts = posts.append(post_series, ignore_index=True)\n",
    "        \n",
    "        \n",
    "        for tag in data['tags']:\n",
    "            tag_series = {'url': data['url'], 'tag': tag}\n",
    "            tags = tags.append(tag_series, ignore_index=True)\n",
    "            \n",
    "        for filing in data['files']:\n",
    "            filing_series = {'url': data['url'], 'filing': filing}\n",
    "            filings = filings.append(filing_series, ignore_index=True)\n",
    "        \n",
    "        for comment in data['comments']:\n",
    "            comment_series = {\n",
    "                'url': data['url'],\n",
    "                'author': comment['author'],\n",
    "                'timestamp': comment['timestamp'],\n",
    "                'body': comment['body'],\n",
    "                'is_post_author': comment['is_post_author'],\n",
    "                'location': comment['location']\n",
    "            }\n",
    "            comments = comments.append(comment_series, ignore_index=True)\n",
    "        \n",
    "        if (i % 100 == 0):\n",
    "            print(\"{0}...\".format(i))\n",
    "    \n",
    "    # Set the url as the index.\n",
    "    posts.set_index('url', inplace=True)\n",
    "    tags.set_index('url', inplace=True)\n",
    "    filings.set_index('url', inplace=True)\n",
    "    comments.set_index('url', inplace=True)\n",
    "    \n",
    "    # Cache all of the dataframes.\n",
    "    posts.to_pickle(posts_filename)\n",
    "    tags.to_pickle(tags_filename)\n",
    "    filings.to_pickle(filings_filename)\n",
    "    comments.to_pickle(comments_filename)\n",
    "        \n",
    "    return posts, tags, filings, comments"
   ]
  },
  {
   "cell_type": "code",
   "execution_count": 9,
   "metadata": {
    "collapsed": false,
    "scrolled": true
   },
   "outputs": [
    {
     "name": "stdout",
     "output_type": "stream",
     "text": [
      "pass\n"
     ]
    }
   ],
   "source": [
    "def test_post_dataframes():\n",
    "    \"\"\"Tests the post_dataframes method.\"\"\"\n",
    "    \n",
    "    first_post_title = \"Chefs Offer Taste of Epcot International Food & Wine Festival\"\n",
    "    first_tag = \"FWF\"\n",
    "    first_filings = \"Epcot\"\n",
    "    first_comment_author = \"Robert\"\n",
    "    \n",
    "    posts, tags, filings, comments = post_dataframes()\n",
    "    \n",
    "    assert(posts.iloc[0].title == first_post_title)\n",
    "    assert(tags.iloc[0].tag == first_tag)\n",
    "    assert(filings.iloc[0].filing == first_filings)\n",
    "    assert(comments.iloc[0].author == first_comment_author)\n",
    "    print(\"pass\")\n",
    "\n",
    "# Execute.\n",
    "test_post_dataframes()"
   ]
  },
  {
   "cell_type": "code",
   "execution_count": 10,
   "metadata": {
    "collapsed": true
   },
   "outputs": [],
   "source": [
    "def print_general_stats(features, top=15):\n",
    "    \"\"\"\n",
    "    Display general stats for the features provided.\n",
    "    \n",
    "    Key arguments:\n",
    "    \n",
    "        features -- The features to display.\n",
    "    \"\"\"\n",
    "    print(\"General Stats:\")\n",
    "    print(\"--------------\")\n",
    "    \n",
    "    print(\"Mean:\\t\\t{:f}\".format(np.mean(features)))\n",
    "    print(\"Median:\\t\\t{:f}\".format(np.median(features)))\n",
    "    print(\"Std. Dev.:\\t{:f}\".format(np.std(features)))\n",
    "    print(\"\")\n",
    "    \n",
    "    sorted_ixds = np.argsort(features)\n",
    "    \n",
    "    print(\"Top {0} Smallest Values:\\t{1}\".format(top, features[sorted_ixds][:top]))\n",
    "    print(\"Top {0} Largest Values:\\t{1}\".format(top, features[sorted_ixds][-top:]))\n",
    "    print(\"\")\n",
    "    "
   ]
  },
  {
   "cell_type": "code",
   "execution_count": 11,
   "metadata": {
    "collapsed": false
   },
   "outputs": [
    {
     "name": "stdout",
     "output_type": "stream",
     "text": [
      "General Stats:\n",
      "--------------\n",
      "Mean:\t\t5.000000\n",
      "Median:\t\t5.000000\n",
      "Std. Dev.:\t3.162278\n",
      "\n",
      "Top 5 Smallest Values:\t[0 1 2 3 4]\n",
      "Top 5 Largest Values:\t[ 6  7  8  9 10]\n",
      "\n"
     ]
    }
   ],
   "source": [
    "def test_print_general_stats():\n",
    "    \"\"\"Tests the print_general_stats method.\"\"\"\n",
    "    \n",
    "    features = np.arange(11, dtype=np.int)\n",
    "    print_general_stats(features, 5)\n",
    "\n",
    "test_print_general_stats()"
   ]
  },
  {
   "cell_type": "code",
   "execution_count": 12,
   "metadata": {
    "collapsed": false
   },
   "outputs": [],
   "source": [
    "def sentiment_dataframe():\n",
    "    \"\"\"\n",
    "    Returns the sentiment dataframe.\n",
    "    \n",
    "    Returns:\n",
    "    \n",
    "        df -- A dataframe containing the sentiments.\n",
    "    \"\"\"\n",
    "    cache_filename = META['data']['cache'] + \"/sentiments.pickle\"\n",
    "    \n",
    "    if (os.path.isfile(cache_filename)):\n",
    "        return pd.read_pickle(cache_filename)\n",
    "    \n",
    "    df = pd.DataFrame()\n",
    "    with open(META['data']['sentiments']['filename'], 'r') as file:\n",
    "        entries = json.load(file)\n",
    "        for entry in entries:\n",
    "            # Skip neutral sentiments.\n",
    "            if (entry['sentiment'] != 2):\n",
    "                series = pd.Series()\n",
    "                series['sentiment'] = entry['sentiment']\n",
    "                series['text'] = entry['text']['cleansed']\n",
    "            \n",
    "                # Add the entry series to the dataframe.\n",
    "                df = df.append(series, ignore_index=True)\n",
    "    \n",
    "    # Cache the dataframe for faster reloads.\n",
    "    df.to_pickle(cache_filename)\n",
    "    \n",
    "    return df"
   ]
  },
  {
   "cell_type": "code",
   "execution_count": 13,
   "metadata": {
    "collapsed": false
   },
   "outputs": [
    {
     "name": "stdout",
     "output_type": "stream",
     "text": [
      "   sentiment                                               text\n",
      "0          1  now all apple has to do is get swype on the ip...\n",
      "1          1  apple will be adding more carrier support to t...\n",
      "2          1  hilarious youtube video - guy does a duet with...\n",
      "3          1  rim you made it too easy for me to switch to a...\n",
      "4          1  the 16 strangest things siri has said so far ....\n"
     ]
    }
   ],
   "source": [
    "def test_sentiment_dataframe():\n",
    "    \"\"\"Tests the sentiment_dataframe method.\"\"\"\n",
    "    \n",
    "    df = sentiment_dataframe()\n",
    "    print(df.head())\n",
    "    \n",
    "test_sentiment_dataframe()"
   ]
  },
  {
   "cell_type": "markdown",
   "metadata": {
    "collapsed": true
   },
   "source": [
    "## Citings and Links\n",
    "\n",
    "1) Disney Parks Blog. https://disneyparks.disney.go.com/blog/\n",
    "\n",
    "2) Learning Word Vectors for Sentiment Analysis. http://ai.stanford.edu/~ang/papers/acl11-WordVectorsSentimentAnalysis.pdf\n",
    "\n",
    "3) Movie Review Data. https://www.cs.cornell.edu/people/pabo/movie-review-data/\n",
    "\n",
    "4) Seaborn. https://stanford.edu/~mwaskom/software/seaborn/\n",
    "\n",
    "5) Statisticians Found One Thing They Can Agree On: It’s Time To Stop Misusing P-Values. http://fivethirtyeight.com/features/statisticians-found-one-thing-they-can-agree-on-its-time-to-stop-misusing-p-values/\n",
    "\n",
    "6) TensorFlow. https://www.tensorflow.org/\n",
    "\n",
    "7) Udacity - Deep Learning. https://www.udacity.com/course/deep-learning--ud730"
   ]
  }
 ],
 "metadata": {
  "kernelspec": {
   "display_name": "Python 3",
   "language": "python",
   "name": "python3"
  },
  "language_info": {
   "codemirror_mode": {
    "name": "ipython",
    "version": 3
   },
   "file_extension": ".py",
   "mimetype": "text/x-python",
   "name": "python",
   "nbconvert_exporter": "python",
   "pygments_lexer": "ipython3",
   "version": "3.5.1"
  }
 },
 "nbformat": 4,
 "nbformat_minor": 0
}
